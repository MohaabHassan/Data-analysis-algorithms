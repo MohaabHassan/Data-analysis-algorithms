{
 "cells": [
  {
   "cell_type": "markdown",
   "metadata": {},
   "source": [
    "## Multi class perceptron\n",
    "\n",
    "Assume we have N training examples {(x1,t1),...,(xN,tN)} where tn can get K discrete values {C1, ..., CK}, i.e. a K-class classification problem. We use 𝑦𝑛 to represent the predicted label of 𝑥𝑛 Model. To solve a K-class classification problem, we can learn K weight vectors wk, each of which corresponding to one of the classes. Prediction. In the prediction time, a data point x will be classified as argmaxk wk . x Training Algorithm. We train the multiclass perceptron based on the following\n",
    "algorithm:\n",
    "\n",
    "- Initialise the weight vectors randomly w1,..,wK\n",
    " * While not converged do:\n",
    " * For n = 1 to N do:\n",
    " * y=$argmax_k$ wk .xn\n",
    "    * If yn !=tn do\n",
    "    * 𝒘𝑦𝑛:=𝒘𝑦𝑛−η𝒙𝑛\n",
    "    * 𝒘𝑡𝑛:=𝒘𝑡𝑛+η𝒙𝑛\n",
    "\n",
    "In the section below, we implement a multi class perceptron with gradient descent of mini batches of size 5."
   ]
  },
  {
   "cell_type": "markdown",
   "metadata": {},
   "source": [
    "Below we load the data and libraries required to implement the perceptron."
   ]
  },
  {
   "cell_type": "code",
   "execution_count": 45,
   "metadata": {},
   "outputs": [
    {
     "name": "stderr",
     "output_type": "stream",
     "text": [
      "Warning message:\n",
      "\"package 'ggplot2' was built under R version 3.6.1\""
     ]
    }
   ],
   "source": [
    "library(ggplot2)"
   ]
  },
  {
   "cell_type": "code",
   "execution_count": 2,
   "metadata": {},
   "outputs": [],
   "source": [
    "train<-read.csv('Task1D_train.csv')"
   ]
  },
  {
   "cell_type": "code",
   "execution_count": 3,
   "metadata": {},
   "outputs": [],
   "source": [
    "test<-read.csv('Task1D_test.csv')\n",
    "test.data = test[,1:4]\n",
    "test.label = test[,5]"
   ]
  },
  {
   "cell_type": "code",
   "execution_count": 4,
   "metadata": {},
   "outputs": [],
   "source": [
    "Phi_test<- as.matrix(cbind(1, test.data)) "
   ]
  },
  {
   "cell_type": "markdown",
   "metadata": {},
   "source": [
    "Auxiliary function to perform predictions"
   ]
  },
  {
   "cell_type": "code",
   "execution_count": 5,
   "metadata": {},
   "outputs": [],
   "source": [
    "pred_val<-function(Phi,W1,W2,W3)\n",
    "{\n",
    "     V1<-Phi%*%W1[1,]\n",
    "    V2<-Phi%*%W2[1,]\n",
    "    V3<-Phi%*%W3[1,]\n",
    "    df<-data.frame('C1'=V1, 'C2'=V2, 'C3'=V3)\n",
    "    output<-colnames(df)[apply(df,1,which.max)]\n",
    "    return(output)\n",
    "}"
   ]
  },
  {
   "cell_type": "markdown",
   "metadata": {},
   "source": [
    "Below we code the multi class perceptron and the comments to describe how everything works."
   ]
  },
  {
   "cell_type": "code",
   "execution_count": 76,
   "metadata": {},
   "outputs": [],
   "source": [
    "set.seed(123) # to make the output reproducible\n",
    "error_df <- data.frame() # dataframe to store errors\n",
    "batch = 1 # variable to store batch number\n",
    "for(index in seq(5,nrow(train),by=5)) # to create mini batches\n",
    "{\n",
    "    ind <- 1:index # we split the data based on 5 batches\n",
    "    train.data = train[ind,1:4]\n",
    "    train.label = train[ind,5]\n",
    "    Phi <- as.matrix(cbind(1, train.data)) \n",
    "    tau <- 1 # Iteration counter\n",
    "    eta <- 0.09# Learning rate\n",
    "    epsilon <- 0.001 # Stoping criterion\n",
    "    tau.max <- 100000 # Maximum number of iterations\n",
    "    W1<- matrix(,nrow=tau.max, ncol=ncol(Phi)) # Empty Weight vector for class 1 \n",
    "    W1[1,] <- runif(ncol(Phi)) # Random initial values for weight vector for class 1\n",
    "    W2 <- matrix(,nrow=tau.max, ncol=ncol(Phi))  # Empty Weight vector for class 2 \n",
    "    W2[1,] <- runif(ncol(Phi)) # Random initial values for weight vector for class 2\n",
    "    W3 <- matrix(,nrow=tau.max, ncol=ncol(Phi))# Empty Weight vector for class 3\n",
    "    W3[1,] <- runif(ncol(Phi)) # Random initial values for weight vector for class 3\n",
    "    V1<-Phi%*%W1[1,] # V1,V2 and V3 stores the class labels for C1, C2 and C3\n",
    "    V2<-Phi%*%W2[1,]\n",
    "    V3<-Phi%*%W3[1,]\n",
    "    df<-data.frame('C1'=V1, 'C2'=V2, 'C3'=V3) # dataframe to store the class labels\n",
    "    output<-colnames(df)[apply(df,1,which.max)] # Tells us which is the class label assigned by the algorithm\n",
    "    train.len= nrow(train.data) # length of train data\n",
    "    terminate<-FALSE\n",
    "    while(!terminate) # while the perceptron doesn't converge\n",
    "    {\n",
    "        terminate <- tau >= tau.max| ((sum(pred_val(Phi,W1,W2,W3)!=train.label)/train.len) <= epsilon) # terminate condition(if number of iteration increases or the misclassification rate falls below the threshold)\n",
    "        for(j in seq(5,train.len,by = 5)) # for loop to execute in a batch of size 5\n",
    "        {   \n",
    "            train.index <- sample(1:j, replace = FALSE) # samples the indeces in batches of 5 without replacement so that the data is used entirely.\n",
    "            Phi_i <- Phi[train.index,] # creates a new phi with the sample and the same with train labels.\n",
    "            T <- train.label[train.index]\n",
    "            output<-pred_val(Phi_i,W1,W2,W3) # predict the labels\n",
    "        \n",
    "            for (i in 1:5) # performs comparison in batches of 5\n",
    "            {\n",
    "       \n",
    "      \n",
    "            if (tau == tau.max) {break} # if converged, break\n",
    "            \n",
    "            \n",
    "            if(T[i]!= output[i]) # if the predicted label is not equal to class label\n",
    "            {\n",
    "                    \n",
    "                    # update the weights for each of the classes for misclassification.\n",
    "                if(T[i]=='C1')\n",
    "                    \n",
    "                    {\n",
    "                    \n",
    "                    W1[1,] <- W1[1,] + eta * Phi_i[i,] \n",
    "                    \n",
    "                    }\n",
    "                else if (T[i]=='C2')\n",
    "                    {\n",
    "                    \n",
    "                    W2[1,] <- W2[1,] + eta * Phi_i[i,] \n",
    "                    \n",
    "                    }\n",
    "                else \n",
    "                    {\n",
    "                   \n",
    "                    W3[1,] <- W3[1,] + eta * Phi_i[i,] \n",
    "                   \n",
    "                    }\n",
    "                if(output[i]=='C1') # if the predicted label matches the class label\n",
    "                    {\n",
    "                    # update the weights for the right class labels.   \n",
    "                    W1[1,] <- W1[1,] - eta * Phi_i[i,]\n",
    "                    }\n",
    "                else if (output[i]=='C2')\n",
    "                    {\n",
    "                    \n",
    "                    W2[1,] <- W2[1,] - eta * Phi_i[i,] \n",
    "                    \n",
    "                    }\n",
    "                else \n",
    "                    {\n",
    "                   \n",
    "                    W3[1,] <- W3[1,] - eta * Phi_i[i,] \n",
    "                    \n",
    "                    }\n",
    "             }\n",
    "            tau <- tau + 1 # increment the iteration by 1\n",
    "            }\n",
    "        }\n",
    "    }\n",
    "    \n",
    "    error_df[batch,'Error'] <- (sum(pred_val(Phi_test,W1,W2,W3)!=test.label)/nrow(test.data)) # stores the error as each batch gets executed\n",
    "    error_df[batch, 'Batch_num'] <- batch\n",
    "    batch = batch + 1\n",
    "    \n",
    "}\n"
   ]
  },
  {
   "cell_type": "markdown",
   "metadata": {},
   "source": [
    "Below we generate a plot showing the error rate as the number of batch increases"
   ]
  },
  {
   "cell_type": "code",
   "execution_count": 77,
   "metadata": {},
   "outputs": [
    {
     "data": {
      "image/png": "[encoded data removed]",
      "text/plain": [
       "plot without title"
      ]
     },
     "metadata": {},
     "output_type": "display_data"
    }
   ],
   "source": [
    "ggplot(error_df,aes(x=Batch_num,y=Error))+geom_line(color='blue')"
   ]
  },
  {
   "cell_type": "markdown",
   "metadata": {},
   "source": [
    "From the above graph, we can interpret that as the batch numbers increase, the test error decreases. The error starts decreases usualy around batch numbers which are multiples of 5(for example around batch number 5 and 10) after which they stabilize and then decreases again."
   ]
  },
  {
   "cell_type": "code",
   "execution_count": null,
   "metadata": {},
   "outputs": [],
   "source": []
  }
 ],
 "metadata": {
  "kernelspec": {
   "display_name": "R",
   "language": "R",
   "name": "ir"
  },
  "language_info": {
   "codemirror_mode": "r",
   "file_extension": ".r",
   "mimetype": "text/x-r-source",
   "name": "R",
   "pygments_lexer": "r",
   "version": "3.6.0"
  }
 },
 "nbformat": 4,
 "nbformat_minor": 2
}
