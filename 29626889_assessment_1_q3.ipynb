{
 "cells": [
  {
   "cell_type": "markdown",
   "metadata": {},
   "source": [
    "## Question 3 - Bootstrapping\n",
    "#### The bootstrap method is a resampling technique used to estimate statistics on a population by sampling a dataset with replacement. It is used in applied machine learning to estimate the skill of machine learning models when making predictions on data not included in the training data. In this question, we are required to implement bootstrapping on the knn regressor function appplied from question 1 of the assignment and train and test it on the respective datasets.\n",
    "We first begin with reading the data and using the knn function used earlier."
   ]
  },
  {
   "cell_type": "code",
   "execution_count": 1,
   "metadata": {},
   "outputs": [],
   "source": [
    "# KNN function (distance should be one of euclidean, maximum, manhattan, canberra, binary or minkowski)\n",
    "knn <- function(train.data, train.label, test.data, K=3, distance = 'euclidean'){\n",
    "    ## count number of train samples\n",
    "    train.len <- nrow(train.data)\n",
    "    \n",
    "    ## count number of test samples\n",
    "    test.len <- nrow(test.data)\n",
    "    \n",
    "    ## calculate distances between samples\n",
    "    dist <- as.matrix(dist(rbind(test.data, train.data), method= distance))[1:test.len, (test.len+1):(test.len+train.len)]\n",
    "    \n",
    "    ## for each test sample...\n",
    "    for (i in 1:test.len){\n",
    "        ### ...find its K nearest neighbours from training sampels...\n",
    "        nn <- as.data.frame(sort(dist[i,], index.return = TRUE))[1:K,2]\n",
    "        \n",
    "        ###... and calculate the predicted labels according to the majority vote\n",
    "        test.label[i]<- (mean(train.label[nn]))\n",
    "    }\n",
    "    \n",
    "    ## return the class labels as output\n",
    "    return (test.label)\n",
    "}"
   ]
  },
  {
   "cell_type": "code",
   "execution_count": 2,
   "metadata": {},
   "outputs": [],
   "source": [
    "data<-read.csv('Task1B_train.csv')\n",
    "train.data = data[,1:4]\n",
    "train.label = data[,5]"
   ]
  },
  {
   "cell_type": "code",
   "execution_count": 3,
   "metadata": {},
   "outputs": [],
   "source": [
    "data_test<-read.csv('Task1B_test.csv')\n",
    "test.data = data[,1:4]\n",
    "test.label = data[,5]"
   ]
  },
  {
   "cell_type": "code",
   "execution_count": 4,
   "metadata": {},
   "outputs": [
    {
     "name": "stderr",
     "output_type": "stream",
     "text": [
      "Warning message:\n",
      "\"package 'reshape2' was built under R version 3.6.1\"Warning message:\n",
      "\"package 'ggplot2' was built under R version 3.6.1\""
     ]
    }
   ],
   "source": [
    "# load libraries:\n",
    "library(reshape2)\n",
    "library(ggplot2)\n",
    "\n",
    "# Load data:\n",
    "library(datasets)"
   ]
  },
  {
   "cell_type": "markdown",
   "metadata": {},
   "source": [
    "We now define the function implement the bootstrapping. The function takes 3 parameters, which are original size i.e. the size of the entire dataset, sample size i.e. the size of the sample we wish to generate and times which tells us how many times we want to run the function. The function below does the following,\n",
    "- initialize a matrix with dimensions of time x sample size\n",
    "- sample the dataset with replacement and save it to the matrix\n",
    "- return the matrix"
   ]
  },
  {
   "cell_type": "code",
   "execution_count": 5,
   "metadata": {},
   "outputs": [],
   "source": [
    "# define a function that generates sample indixes based on bootstrap technique\n",
    "boot <- function (original.size=100, sample.size=original.size, times=100){\n",
    "    indx <- matrix(nrow=times, ncol=sample.size)\n",
    "    for (t in 1:times){\n",
    "        indx[t, ] <- sample(x=original.size, size=sample.size, replace = TRUE)\n",
    "    }\n",
    "    return(indx)\n",
    "}"
   ]
  },
  {
   "cell_type": "code",
   "execution_count": 6,
   "metadata": {},
   "outputs": [
    {
     "data": {
      "text/html": [
       "<table>\n",
       "<tbody>\n",
       "\t<tr><td>462</td><td>519</td><td>113</td><td>202</td><td>754</td><td>803</td><td>826</td><td>507</td><td>132</td><td>216</td><td>...</td><td>343</td><td>683</td><td>755</td><td>564</td><td>557</td><td>604</td><td>771</td><td>909</td><td> 42</td><td>513</td></tr>\n",
       "\t<tr><td>427</td><td>249</td><td>273</td><td>347</td><td>430</td><td>603</td><td>231</td><td> 27</td><td> 45</td><td>386</td><td>...</td><td>643</td><td> 70</td><td>629</td><td>245</td><td>461</td><td>552</td><td>848</td><td>568</td><td>870</td><td>397</td></tr>\n",
       "\t<tr><td>713</td><td>559</td><td>910</td><td>308</td><td>776</td><td>479</td><td>752</td><td> 19</td><td>726</td><td>841</td><td>...</td><td>847</td><td>157</td><td>112</td><td>630</td><td>722</td><td>777</td><td>130</td><td>412</td><td>146</td><td>816</td></tr>\n",
       "\t<tr><td>224</td><td>907</td><td>145</td><td>902</td><td>151</td><td>689</td><td>560</td><td> 64</td><td> 59</td><td>761</td><td>...</td><td>876</td><td>578</td><td>232</td><td>417</td><td>666</td><td>766</td><td>365</td><td>550</td><td>565</td><td>629</td></tr>\n",
       "\t<tr><td>401</td><td>687</td><td>227</td><td>383</td><td>308</td><td>298</td><td> 96</td><td>538</td><td>362</td><td>364</td><td>...</td><td>672</td><td>588</td><td>325</td><td>124</td><td>657</td><td>802</td><td>862</td><td>253</td><td>764</td><td>856</td></tr>\n",
       "\t<tr><td>686</td><td>378</td><td> 82</td><td>301</td><td>762</td><td>566</td><td>481</td><td>  6</td><td>188</td><td>344</td><td>...</td><td>610</td><td>304</td><td>886</td><td>312</td><td>698</td><td>231</td><td> 21</td><td>479</td><td>484</td><td>187</td></tr>\n",
       "\t<tr><td>754</td><td>120</td><td>214</td><td>902</td><td>905</td><td>706</td><td>111</td><td>695</td><td>377</td><td>578</td><td>...</td><td>  3</td><td>343</td><td>720</td><td>457</td><td>750</td><td>545</td><td>753</td><td>767</td><td>563</td><td>857</td></tr>\n",
       "\t<tr><td>399</td><td>750</td><td>925</td><td>194</td><td>165</td><td>383</td><td>715</td><td>596</td><td>883</td><td>452</td><td>...</td><td>734</td><td> 42</td><td>497</td><td>146</td><td>280</td><td>125</td><td>320</td><td>929</td><td>471</td><td>800</td></tr>\n",
       "\t<tr><td> 27</td><td>643</td><td>651</td><td>712</td><td>812</td><td>859</td><td>443</td><td> 55</td><td>477</td><td>340</td><td>...</td><td> 51</td><td>464</td><td>600</td><td> 90</td><td>917</td><td>478</td><td>  4</td><td>283</td><td>430</td><td> 59</td></tr>\n",
       "\t<tr><td>309</td><td>559</td><td>601</td><td>436</td><td>647</td><td>565</td><td> 81</td><td> 21</td><td> 62</td><td>652</td><td>...</td><td>408</td><td>279</td><td>741</td><td>111</td><td>547</td><td>106</td><td>764</td><td>365</td><td>762</td><td>244</td></tr>\n",
       "</tbody>\n",
       "</table>\n"
      ],
      "text/latex": [
       "\\begin{tabular}{lllllllllllllllllllllllll}\n",
       "\t 462 & 519 & 113 & 202 & 754 & 803 & 826 & 507 & 132 & 216 & ... & 343 & 683 & 755 & 564 & 557 & 604 & 771 & 909 &  42 & 513\\\\\n",
       "\t 427 & 249 & 273 & 347 & 430 & 603 & 231 &  27 &  45 & 386 & ... & 643 &  70 & 629 & 245 & 461 & 552 & 848 & 568 & 870 & 397\\\\\n",
       "\t 713 & 559 & 910 & 308 & 776 & 479 & 752 &  19 & 726 & 841 & ... & 847 & 157 & 112 & 630 & 722 & 777 & 130 & 412 & 146 & 816\\\\\n",
       "\t 224 & 907 & 145 & 902 & 151 & 689 & 560 &  64 &  59 & 761 & ... & 876 & 578 & 232 & 417 & 666 & 766 & 365 & 550 & 565 & 629\\\\\n",
       "\t 401 & 687 & 227 & 383 & 308 & 298 &  96 & 538 & 362 & 364 & ... & 672 & 588 & 325 & 124 & 657 & 802 & 862 & 253 & 764 & 856\\\\\n",
       "\t 686 & 378 &  82 & 301 & 762 & 566 & 481 &   6 & 188 & 344 & ... & 610 & 304 & 886 & 312 & 698 & 231 &  21 & 479 & 484 & 187\\\\\n",
       "\t 754 & 120 & 214 & 902 & 905 & 706 & 111 & 695 & 377 & 578 & ... &   3 & 343 & 720 & 457 & 750 & 545 & 753 & 767 & 563 & 857\\\\\n",
       "\t 399 & 750 & 925 & 194 & 165 & 383 & 715 & 596 & 883 & 452 & ... & 734 &  42 & 497 & 146 & 280 & 125 & 320 & 929 & 471 & 800\\\\\n",
       "\t  27 & 643 & 651 & 712 & 812 & 859 & 443 &  55 & 477 & 340 & ... &  51 & 464 & 600 &  90 & 917 & 478 &   4 & 283 & 430 &  59\\\\\n",
       "\t 309 & 559 & 601 & 436 & 647 & 565 &  81 &  21 &  62 & 652 & ... & 408 & 279 & 741 & 111 & 547 & 106 & 764 & 365 & 762 & 244\\\\\n",
       "\\end{tabular}\n"
      ],
      "text/markdown": [
       "\n",
       "| 462 | 519 | 113 | 202 | 754 | 803 | 826 | 507 | 132 | 216 | ... | 343 | 683 | 755 | 564 | 557 | 604 | 771 | 909 |  42 | 513 |\n",
       "| 427 | 249 | 273 | 347 | 430 | 603 | 231 |  27 |  45 | 386 | ... | 643 |  70 | 629 | 245 | 461 | 552 | 848 | 568 | 870 | 397 |\n",
       "| 713 | 559 | 910 | 308 | 776 | 479 | 752 |  19 | 726 | 841 | ... | 847 | 157 | 112 | 630 | 722 | 777 | 130 | 412 | 146 | 816 |\n",
       "| 224 | 907 | 145 | 902 | 151 | 689 | 560 |  64 |  59 | 761 | ... | 876 | 578 | 232 | 417 | 666 | 766 | 365 | 550 | 565 | 629 |\n",
       "| 401 | 687 | 227 | 383 | 308 | 298 |  96 | 538 | 362 | 364 | ... | 672 | 588 | 325 | 124 | 657 | 802 | 862 | 253 | 764 | 856 |\n",
       "| 686 | 378 |  82 | 301 | 762 | 566 | 481 |   6 | 188 | 344 | ... | 610 | 304 | 886 | 312 | 698 | 231 |  21 | 479 | 484 | 187 |\n",
       "| 754 | 120 | 214 | 902 | 905 | 706 | 111 | 695 | 377 | 578 | ... |   3 | 343 | 720 | 457 | 750 | 545 | 753 | 767 | 563 | 857 |\n",
       "| 399 | 750 | 925 | 194 | 165 | 383 | 715 | 596 | 883 | 452 | ... | 734 |  42 | 497 | 146 | 280 | 125 | 320 | 929 | 471 | 800 |\n",
       "|  27 | 643 | 651 | 712 | 812 | 859 | 443 |  55 | 477 | 340 | ... |  51 | 464 | 600 |  90 | 917 | 478 |   4 | 283 | 430 |  59 |\n",
       "| 309 | 559 | 601 | 436 | 647 | 565 |  81 |  21 |  62 | 652 | ... | 408 | 279 | 741 | 111 | 547 | 106 | 764 | 365 | 762 | 244 |\n",
       "\n"
      ],
      "text/plain": [
       "      [,1] [,2] [,3] [,4] [,5] [,6] [,7] [,8] [,9] [,10] [,11] [,12] [,13]\n",
       " [1,] 462  519  113  202  754  803  826  507  132  216   ...   343   683  \n",
       " [2,] 427  249  273  347  430  603  231   27   45  386   ...   643    70  \n",
       " [3,] 713  559  910  308  776  479  752   19  726  841   ...   847   157  \n",
       " [4,] 224  907  145  902  151  689  560   64   59  761   ...   876   578  \n",
       " [5,] 401  687  227  383  308  298   96  538  362  364   ...   672   588  \n",
       " [6,] 686  378   82  301  762  566  481    6  188  344   ...   610   304  \n",
       " [7,] 754  120  214  902  905  706  111  695  377  578   ...     3   343  \n",
       " [8,] 399  750  925  194  165  383  715  596  883  452   ...   734    42  \n",
       " [9,]  27  643  651  712  812  859  443   55  477  340   ...    51   464  \n",
       "[10,] 309  559  601  436  647  565   81   21   62  652   ...   408   279  \n",
       "      [,14] [,15] [,16] [,17] [,18] [,19] [,20] [,21]\n",
       " [1,] 755   564   557   604   771   909    42   513  \n",
       " [2,] 629   245   461   552   848   568   870   397  \n",
       " [3,] 112   630   722   777   130   412   146   816  \n",
       " [4,] 232   417   666   766   365   550   565   629  \n",
       " [5,] 325   124   657   802   862   253   764   856  \n",
       " [6,] 886   312   698   231    21   479   484   187  \n",
       " [7,] 720   457   750   545   753   767   563   857  \n",
       " [8,] 497   146   280   125   320   929   471   800  \n",
       " [9,] 600    90   917   478     4   283   430    59  \n",
       "[10,] 741   111   547   106   764   365   762   244  "
      ]
     },
     "metadata": {},
     "output_type": "display_data"
    }
   ],
   "source": [
    "boot(nrow(train.data), 25, 10)"
   ]
  },
  {
   "cell_type": "markdown",
   "metadata": {},
   "source": [
    "Below, we implement knn along with bootstrapping. The function does the following,\n",
    "- Initialize k, number of datasets(L) and the size of dataset(N).\n",
    "- For each k and L, perform bootstrapping and run knn on the data and record the errors in the miss dataframe"
   ]
  },
  {
   "cell_type": "code",
   "execution_count": 7,
   "metadata": {},
   "outputs": [],
   "source": [
    "# fix the parameters (50,40,50)\n",
    "K <- 20           # Maximum K for KNN \n",
    "L <- 100        # number of datasets\n",
    "N <- 25         # size of datasets\n",
    "\n",
    "# generate bootstrap indices:\n",
    "boot.indx <- boot(nrow(train.data), N, L)\n",
    "\n",
    "# a dataframe to track the number of missclassified samples in each case\n",
    "miss <- data.frame('K'=1:K, 'L'=1:L, 'test'=rep(0,L*K))\n",
    "\n",
    "# THIS MAY TAKE A FEW MINUTES TO COMPLETE\n",
    "## for every k values:\n",
    "for (k in 1: K){\n",
    "    \n",
    "    ### for every dataset sizes:\n",
    "    for (l in 1:L){\n",
    "        \n",
    "        #### calculate iteration index i\n",
    "        i <- (k-1)*L+l\n",
    "        \n",
    "        #### save sample indices that were selected by bootstrap\n",
    "        indx <- boot.indx[l,]\n",
    "        \n",
    "        #### save the value of k and l\n",
    "        miss[i,'K'] <- k\n",
    "        miss[i,'L'] <- l\n",
    "        \n",
    "        #### calculate and record the train and test missclassification rates\n",
    "        miss[i,'test'] <-  sqrt(sum((knn(train.data[indx, ], train.label[indx], test.data, K=k)  - test.label)**2)/nrow(test.data))\n",
    "    } \n",
    "}"
   ]
  },
  {
   "cell_type": "code",
   "execution_count": 8,
   "metadata": {},
   "outputs": [],
   "source": [
    "miss.m <- melt(miss, id=c('K', 'L')) # reshape for visualization\n",
    "names(miss.m) <- c('K', 'L', 'type', 'RMSE')"
   ]
  },
  {
   "cell_type": "markdown",
   "metadata": {},
   "source": [
    "The code below generates the plot for different values of K and RMSE reported for them."
   ]
  },
  {
   "cell_type": "code",
   "execution_count": 9,
   "metadata": {},
   "outputs": [
    {
     "data": {
      "image/png": "[encoded data removed]",
      "text/plain": [
       "plot without title"
      ]
     },
     "metadata": {},
     "output_type": "display_data"
    }
   ],
   "source": [
    "ggplot(data=miss.m[miss.m$type=='test',], aes(factor(K), RMSE,fill=type)) + geom_boxplot(outlier.shape = NA)  + \n",
    "    scale_color_discrete(guide = guide_legend(title = NULL)) + ggtitle('Root mean Squared Error vs. K (Box Plot)') + theme_minimal()\n",
    "# ignore the warnings (because of ignoring outliers)\n",
    "options(warn=-1)"
   ]
  },
  {
   "cell_type": "markdown",
   "metadata": {},
   "source": [
    "From the plot, we can ascertain that as the value of K increases, the uncertainty and the test error increases as well. The uncertainty of the model increases a lot around k = 6 to k = 12 after which the model starts becoming less flexible and more complex which leads to more certainty however the test error is high these values of k. "
   ]
  },
  {
   "cell_type": "markdown",
   "metadata": {},
   "source": [
    "We now applying our bootstrap function k=10 , a size of 25 and for 10,20,....200 times. After which we create a boxplot with times on the x axis and RMSE on the y axis."
   ]
  },
  {
   "cell_type": "code",
   "execution_count": 10,
   "metadata": {},
   "outputs": [],
   "source": [
    "# fix the parameters \n",
    "K <- 10           # Maximum K for KNN \n",
    "N <- 25         # size of datasets"
   ]
  },
  {
   "cell_type": "code",
   "execution_count": 11,
   "metadata": {},
   "outputs": [],
   "source": [
    "# generate bootstrap indices:\n",
    "# a dataframe to track of the error\n",
    "miss <- data.frame(L=character(), l=character(), error=double())\n",
    "\n",
    "## for every L values:\n",
    "for (L in  seq(10, 200, by=10)){    \n",
    "    ### for every dataset sizes:\n",
    "    boot.indx <- boot(nrow(train.data), N, L)\n",
    "    # Iterate through each sample\n",
    "    for (l in 1:L ){\n",
    "        #### save sample indices that were selected by bootstrap\n",
    "        indx <- boot.indx[l,]\n",
    "        \n",
    "        \n",
    "        #### calculate and record the test error\n",
    "        err <- sqrt(sum((knn(train.data[indx, ], train.label[indx], test.data, K=10)  -test.label)**2)/nrow(test.data))\n",
    "        de <- list('L'=L, 'l'=l, 'Test'=err)\n",
    "        miss<-rbind(miss,de, stringsAsFactors=FALSE)\n",
    "    } \n",
    "}"
   ]
  },
  {
   "cell_type": "code",
   "execution_count": 13,
   "metadata": {},
   "outputs": [],
   "source": [
    "miss.m <- melt(miss, id=c('l', 'L')) # reshape for visualization\n",
    "names(miss.m) <- c('l', 'L', 'type', 'RMSE')"
   ]
  },
  {
   "cell_type": "code",
   "execution_count": 14,
   "metadata": {},
   "outputs": [
    {
     "data": {
      "text/html": [
       "<table>\n",
       "<thead><tr><th scope=col>l</th><th scope=col>L</th><th scope=col>type</th><th scope=col>RMSE</th></tr></thead>\n",
       "<tbody>\n",
       "\t<tr><td>1       </td><td>10      </td><td>Test    </td><td>482.5056</td></tr>\n",
       "\t<tr><td>2       </td><td>10      </td><td>Test    </td><td>519.3741</td></tr>\n",
       "\t<tr><td>3       </td><td>10      </td><td>Test    </td><td>618.5676</td></tr>\n",
       "\t<tr><td>4       </td><td>10      </td><td>Test    </td><td>434.4137</td></tr>\n",
       "\t<tr><td>5       </td><td>10      </td><td>Test    </td><td>638.1434</td></tr>\n",
       "\t<tr><td>6       </td><td>10      </td><td>Test    </td><td>601.1468</td></tr>\n",
       "</tbody>\n",
       "</table>\n"
      ],
      "text/latex": [
       "\\begin{tabular}{r|llll}\n",
       " l & L & type & RMSE\\\\\n",
       "\\hline\n",
       "\t 1        & 10       & Test     & 482.5056\\\\\n",
       "\t 2        & 10       & Test     & 519.3741\\\\\n",
       "\t 3        & 10       & Test     & 618.5676\\\\\n",
       "\t 4        & 10       & Test     & 434.4137\\\\\n",
       "\t 5        & 10       & Test     & 638.1434\\\\\n",
       "\t 6        & 10       & Test     & 601.1468\\\\\n",
       "\\end{tabular}\n"
      ],
      "text/markdown": [
       "\n",
       "| l | L | type | RMSE |\n",
       "|---|---|---|---|\n",
       "| 1        | 10       | Test     | 482.5056 |\n",
       "| 2        | 10       | Test     | 519.3741 |\n",
       "| 3        | 10       | Test     | 618.5676 |\n",
       "| 4        | 10       | Test     | 434.4137 |\n",
       "| 5        | 10       | Test     | 638.1434 |\n",
       "| 6        | 10       | Test     | 601.1468 |\n",
       "\n"
      ],
      "text/plain": [
       "  l L  type RMSE    \n",
       "1 1 10 Test 482.5056\n",
       "2 2 10 Test 519.3741\n",
       "3 3 10 Test 618.5676\n",
       "4 4 10 Test 434.4137\n",
       "5 5 10 Test 638.1434\n",
       "6 6 10 Test 601.1468"
      ]
     },
     "metadata": {},
     "output_type": "display_data"
    }
   ],
   "source": [
    "head(miss.m)"
   ]
  },
  {
   "cell_type": "markdown",
   "metadata": {},
   "source": [
    "Below we create the visualizations with times on the x axis and RMSE on the y axis."
   ]
  },
  {
   "cell_type": "code",
   "execution_count": 16,
   "metadata": {},
   "outputs": [
    {
     "data": {
      "image/png": "[encoded data removed]",
      "text/plain": [
       "plot without title"
      ]
     },
     "metadata": {},
     "output_type": "display_data"
    }
   ],
   "source": [
    "ggplot(data=miss.m[miss.m$type=='Test',], aes(factor(L), RMSE,fill=type)) + geom_boxplot(outlier.shape = NA)  + \n",
    "    scale_color_discrete(guide = guide_legend(title = NULL)) + \n",
    "    ggtitle('Root mean Squared Error vs. Number Of Subsets)') + theme_minimal()\n",
    "# ignore the warnings (because of ignoring outliers)\n",
    "options(warn=-1)"
   ]
  },
  {
   "cell_type": "markdown",
   "metadata": {},
   "source": [
    "We can see from the above plot that as the number of subset increases, the RMSE and the uncertainty decreases initially till around 30 times after which there is no concrete trend as it increases/decreases quite randomly. The RMSE and uncertainty is least at 60 times after 130 times as well."
   ]
  },
  {
   "cell_type": "code",
   "execution_count": null,
   "metadata": {},
   "outputs": [],
   "source": []
  }
 ],
 "metadata": {
  "kernelspec": {
   "display_name": "R",
   "language": "R",
   "name": "ir"
  },
  "language_info": {
   "codemirror_mode": "r",
   "file_extension": ".r",
   "mimetype": "text/x-r-source",
   "name": "R",
   "pygments_lexer": "r",
   "version": "3.6.0"
  }
 },
 "nbformat": 4,
 "nbformat_minor": 2
}
