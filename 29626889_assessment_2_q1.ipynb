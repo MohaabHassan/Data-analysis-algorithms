{
 "cells": [
  {
   "cell_type": "markdown",
   "metadata": {},
   "source": [
    "# Part - A :- Document clustering\n",
    "#### in this part of the assignment, we are asked to derive the Expectation and Maximisation steps forhard EM-algorithm for document clustering which is attached in the pdf report. In this notbook, we implement the hard and soft EM and perform PCA on the clusterings and visualize them on thefirst 2 principal components.\n"
   ]
  },
  {
   "cell_type": "markdown",
   "metadata": {},
   "source": [
    "We first begin by loading the required packages."
   ]
  },
  {
   "cell_type": "code",
   "execution_count": 20,
   "metadata": {},
   "outputs": [
    {
     "name": "stderr",
     "output_type": "stream",
     "text": [
      "Warning message:\n",
      "\"package 'tm' is in use and will not be installed\""
     ]
    },
    {
     "name": "stdout",
     "output_type": "stream",
     "text": [
      "package 'SnowballC' successfully unpacked and MD5 sums checked\n"
     ]
    },
    {
     "name": "stderr",
     "output_type": "stream",
     "text": [
      "Warning message:\n",
      "\"cannot remove prior installation of package 'SnowballC'\"Warning message in file.copy(savedcopy, lib, recursive = TRUE):\n",
      "\"problem copying C:\\Users\\mmoh0064\\AppData\\Local\\Continuum\\anaconda3\\envs\\DAA\\Lib\\R\\library\\00LOCK\\SnowballC\\libs\\x64\\SnowballC.dll to C:\\Users\\mmoh0064\\AppData\\Local\\Continuum\\anaconda3\\envs\\DAA\\Lib\\R\\library\\SnowballC\\libs\\x64\\SnowballC.dll: Permission denied\"Warning message:\n",
      "\"restored 'SnowballC'\""
     ]
    },
    {
     "name": "stdout",
     "output_type": "stream",
     "text": [
      "\n",
      "The downloaded binary packages are in\n",
      "\tC:\\Users\\mmoh0064\\AppData\\Local\\Temp\\RtmpOqc7lZ\\downloaded_packages\n"
     ]
    }
   ],
   "source": [
    "# You may need to install some packages:\n",
    "install.packages('tm')\n",
    "install.packages('SnowballC')\n"
   ]
  },
  {
   "cell_type": "code",
   "execution_count": 22,
   "metadata": {},
   "outputs": [],
   "source": [
    "eps=1e-10 # initialize the value for epsilon\n",
    "  "
   ]
  },
  {
   "cell_type": "markdown",
   "metadata": {},
   "source": [
    "Axuiliary function to read the text file and split the documents followed by creating a corpus, preprocessing the corpus and returning it as a matrix."
   ]
  },
  {
   "cell_type": "code",
   "execution_count": 21,
   "metadata": {},
   "outputs": [],
   "source": [
    "# reading the data\n",
    "read.data <- function(file.name='dataset/Task2A.txt', sample.size=1000, seed=100, pre.proc=TRUE, spr.ratio= 0.90) {\n",
    "  # INPUTS:\n",
    "  ## file.name: name of the input .txt file\n",
    "  ## sample.size: if == 0  reads all docs, otherwise only reads a subset of the corpus\n",
    "  ## seed: random seed for sampling (read above)\n",
    "  ## pre.proc: if TRUE performs the preprocessing (recommended)\n",
    "  ## spr.ratio: is used to reduce the sparcity of data by removing very infrequent words\n",
    "  # OUTPUTS:\n",
    "  ## docs: the unlabled corpus (each row is a document)\n",
    "  ## word.doc.mat: the count matrix (each rows and columns corresponds to words and documents, respectively)\n",
    "  ## label: the real cluster labels (will be used in visualization/validation and not for clustering)\n",
    "  \n",
    "  # Read the data\n",
    "  text <- readLines(file.name)\n",
    "  # select a subset of data if sample.size > 0\n",
    "  if (sample.size>0){\n",
    "    set.seed(seed)\n",
    "    text <- text[sample(length(text), sample.size)]\n",
    "  }\n",
    "  ## the terms before the first '\\t' are the lables (the newsgroup names) and all the remaining text after '\\t' are the actual documents\n",
    "  docs <- strsplit(text, '\\t')\n",
    "  # store the labels for evaluation\n",
    "  labels <-  unlist(lapply(docs, function(x) x[1]))\n",
    "  # store the unlabeled texts    \n",
    "  docs <- data.frame(doc_id=1:length(docs),text=unlist(lapply(docs, function(x) x[2])))\n",
    "\n",
    "  library(tm)\n",
    "  # create a corpus\n",
    "  docs <- DataframeSource(docs)\n",
    "  corp <- Corpus(docs)\n",
    "  \n",
    "  # Preprocessing:\n",
    "  if (pre.proc){\n",
    "    corp <- tm_map(corp, removeWords, stopwords(\"english\")) # remove stop words (the most common word in a language that can be find in any document)\n",
    "    corp <- tm_map(corp, removePunctuation) # remove pnctuation\n",
    "    corp <- tm_map(corp, stemDocument) # perform stemming (reducing inflected and derived words to their root form)\n",
    "    corp <- tm_map(corp, removeNumbers) # remove all numbers\n",
    "    corp <- tm_map(corp, stripWhitespace) # remove redundant spaces \n",
    "  }  \n",
    "  # Create a matrix which its rows are the documents and colomns are the words. \n",
    "  dtm <- DocumentTermMatrix(corp)\n",
    "  ## reduce the sparcity of out dtm\n",
    "  dtm <- removeSparseTerms(dtm, spr.ratio)\n",
    "  ## convert dtm to a matrix\n",
    "  word.doc.mat <- t(as.matrix(dtm))\n",
    "  \n",
    "                                   \n",
    "  # Return the result\n",
    "  return (list(\"docs\" = docs, \"word.doc.mat\"= word.doc.mat, \"labels\" = labels))\n",
    "}"
   ]
  },
  {
   "cell_type": "markdown",
   "metadata": {},
   "source": [
    "We now read the dataset using the auxiliary function defined above."
   ]
  },
  {
   "cell_type": "code",
   "execution_count": 7,
   "metadata": {},
   "outputs": [],
   "source": [
    "data <- read.data(file.name='Task2A.txt', sample.size=0, seed=100, pre.proc=TRUE, spr.ratio= .99)"
   ]
  },
  {
   "cell_type": "markdown",
   "metadata": {},
   "source": [
    "We now build a helper logsum function which converts the computation to log space and converts the results back to numerical spaceusig exp function to reduce the numerical errors."
   ]
  },
  {
   "cell_type": "code",
   "execution_count": 23,
   "metadata": {},
   "outputs": [],
   "source": [
    "## --- helper function ------------------------------------------------------------------ \n",
    "logSum <- function(v) {\n",
    "   m = max(v)\n",
    "   return ( m + log(sum(exp(v-m))))\n",
    "}"
   ]
  },
  {
   "cell_type": "code",
   "execution_count": 24,
   "metadata": {},
   "outputs": [],
   "source": [
    "##--- Initialize model parameters randomly --------------------------------------------\n",
    "initial.param <- function(vocab_size, K=4, seed=123456){\n",
    "  rho <- matrix(1/K,nrow = K, ncol=1) # assume all clusters have the same size (we will update this later on)\n",
    "  mu <- matrix(runif(K*vocab_size),nrow = K, ncol = vocab_size) # initiate Mu \n",
    "  mu <- prop.table(mu, margin = 1) # normalization to ensure that sum of each row is 1\n",
    "  return (list(\"rho\" = rho, \"mu\"= mu))\n",
    "}"
   ]
  },
  {
   "cell_type": "markdown",
   "metadata": {},
   "source": [
    "We now build the Expectation function for soft clustering. We basically perform the following steps,\n",
    "- Calucate posterior prbability which is nothing but $\\gamma_{n,k}$ in log space.\n",
    "- Normalize $\\gamma_{n,k}$ to 1.\n",
    "- convert back to numerical space from log space using exp function"
   ]
  },
  {
   "cell_type": "code",
   "execution_count": 25,
   "metadata": {},
   "outputs": [],
   "source": [
    "#Expectation function for Soft Max\n",
    "Esoft.step <- function(gamma, model, counts){\n",
    "  # Model Parameter Setting\n",
    "  N <- dim(counts)[2] # number of documents\n",
    "  K <- dim(model$mu)[1]\n",
    "\n",
    "  # E step:    \n",
    "  for (n in 1:N){\n",
    "    for (k in 1:K){\n",
    "      ## calculate the posterior based on the estimated mu and rho in the \"log space\"\n",
    "      gamma[n,k] <- log(model$rho[k,1]) +  sum(counts[,n] * log(model$mu[k,])) \n",
    "    }\n",
    "    # normalisation to sum to 1 in the log space\n",
    "    logZ = logSum(gamma[n,])\n",
    "    gamma[n,] = gamma[n,] - logZ\n",
    "  }\n",
    "  \n",
    "  # converting back from the log space \n",
    "  gamma <- exp(gamma)\n",
    "  return (gamma)\n",
    "}"
   ]
  },
  {
   "cell_type": "markdown",
   "metadata": {},
   "source": [
    "We now build an Expectation function for hard clustering. It basically performs the following steps,\n",
    "- Calucate posterior prbability which is nothing but $\\gamma_{n,k}$ in log space.\n",
    "- Normalize $\\gamma_{n,k}$ to 1.\n",
    "- Calculate the maximum probability of a datapoint belonging to a particular cluster and set that to 1 and remaining to 0."
   ]
  },
  {
   "cell_type": "code",
   "execution_count": 10,
   "metadata": {},
   "outputs": [],
   "source": [
    "#Expectation function for Hard Max\n",
    "Ehard.step <- function(gamma, model, counts){\n",
    "  # Model Parameter Setting\n",
    "  N <- dim(counts)[2] # number of documents\n",
    "  K <- dim(model$mu)[1]\n",
    "  # E step:    \n",
    "  for (n in 1:N){\n",
    "    for (k in 1:K){\n",
    "      ## calculate the posterior based on the estimated mu and rho in the \"log space\"\n",
    "      gamma[n,k] <- log(model$rho[k,1]) +  sum(counts[,n] * log(model$mu[k,])) \n",
    "    }\n",
    "    # normalisation to sum to 1 in the log space\n",
    "    \n",
    "    logZ = logSum(gamma[n,])\n",
    "    gamma[n,] = gamma[n,] - logZ\n",
    "    \n",
    "  \n",
    "  }\n",
    "  #hard EM\n",
    "  # Asssign 1 to the cluster which it belongs to zero to rest of them\n",
    "    max.prob <- gamma==apply(gamma, 1, max) # for each point find the cluster with the maximum (estimated) probability\n",
    "    gamma[max.prob] <- 1 # assign each point to the cluster with the highest probability\n",
    "    gamma[!max.prob] <- 0 \n",
    "\n",
    "    return (gamma)\n",
    "}"
   ]
  },
  {
   "cell_type": "markdown",
   "metadata": {},
   "source": [
    "We now build the maximisation function. We do the following,\n",
    "- Get the model parameter setting i.e number of documents, words, clusters, Rho and mu whichis the probability the word belonging to a cluster.\n",
    "- We then iterate through all clusters to get the effective number of points in each cluster which is $N_{k}$\n",
    "- We then iterate through our vocabulary to calculate the probability of a word belonging to all clusters. We add epsilon to avoid NA values\n",
    "- We assign the probability to each cluster and normalize this to 1.\n",
    "- we finally return the model."
   ]
  },
  {
   "cell_type": "code",
   "execution_count": 26,
   "metadata": {},
   "outputs": [],
   "source": [
    "M.step <- function(gamma, model, counts){\n",
    "    \n",
    "  # Model Parameter Setting\n",
    "  N <- dim(counts)[2]   # number of documents\n",
    "  W <- dim(counts)[1]   # number of words i.e. vocabulary size\n",
    "  K <- dim(model$mu)[1] # number of clusters\n",
    "  Nk.hat <- model$rho # Rho old\n",
    "  mu <- model$mu  # probability each word belonging to a cluster\n",
    "\n",
    " for (k in 1:K){\n",
    "        \n",
    "        # the effective number of point in cluster k divided by total number of points\n",
    "        \n",
    "      \n",
    "        Nk.hat[k]<-sum(gamma[,k])/N \n",
    "     for (w in 1:W)\n",
    "        {     \n",
    "           # calculate probability of each word belonging to the all three clusters\n",
    "           # add eps to avoid NA values\n",
    "            val<-(counts[w,] * gamma[,k]) + eps\n",
    "            mu[k,w]<-sum(val* gamma[,k])/(sum(counts * gamma[,k])+K*eps)\n",
    "          \n",
    "          \n",
    "       }\n",
    "      \n",
    "    }\n",
    "    # assign that probability of each cluster\n",
    "    model$rho<-Nk.hat\n",
    "   \n",
    "   \n",
    "#NORMALIZE it to one \n",
    "model$mu<-prop.table(mu, margin = 1)\n",
    "    \n",
    "    \n",
    "  \n",
    "# Return the result\n",
    "return (model)\n",
    "}"
   ]
  },
  {
   "cell_type": "markdown",
   "metadata": {},
   "source": [
    "We now perform EM for soft clustering. \n",
    "- We begin with setting model parameters, i.e. getting number of documents, unique words and initializing the model and gamma\n",
    "- We now build the model and make it run for 10 epochs.\n",
    "- For each epoch, we calculate the $\\gamma$ using Esoft function implemented above.\n",
    "- We then maximize it using the M function iplemented above.\n",
    "- We do it iteratively till the maximum number of epoches is reached and return the final model."
   ]
  },
  {
   "cell_type": "code",
   "execution_count": 27,
   "metadata": {},
   "outputs": [],
   "source": [
    "##--- EM for Document Clustering --------------------------------------------\n",
    "EM_soft <- function(counts, K=4, max.epoch=10, seed=123456){\n",
    "  #INPUTS:\n",
    "  ## counts: word count matrix\n",
    "  ## K: the number of clusters\n",
    "  #OUTPUTS:\n",
    "  ## model: a list of model parameters\n",
    "  \n",
    "  # Model Parameter Setting\n",
    "  N <- dim(counts)[2] # number of documents\n",
    "  W <- dim(counts)[1] # number of unique words (in all documents)\n",
    "  \n",
    "  # Initialization\n",
    "  model <- initial.param(W, K=K, seed=seed)\n",
    "  gamma <- matrix(0, nrow = N, ncol = K)\n",
    "\n",
    "  print(train_obj(model,counts))\n",
    "  # Build the model\n",
    "  for(epoch in 1:max.epoch){\n",
    "    \n",
    "    # E Step\n",
    "    gamma <- Esoft.step(gamma, model, counts)\n",
    "    # M Step\n",
    "    model <- M.step(gamma, model, counts)\n",
    "   \n",
    "    print(train_obj(model,counts)) \n",
    "  }\n",
    "  # Return Model\n",
    "  return(list(\"model\"=model,\"gamma\"=gamma))\n",
    "}"
   ]
  },
  {
   "cell_type": "markdown",
   "metadata": {},
   "source": [
    "We perform the same for hard clustering as done in soft clustering except we replace the expectation function for soft clustering with hard clustering."
   ]
  },
  {
   "cell_type": "code",
   "execution_count": 28,
   "metadata": {},
   "outputs": [],
   "source": [
    "##--- EM for Document Clustering --------------------------------------------\n",
    "EM_hard <- function(counts, K=4, max.epoch=10, seed=123456){\n",
    "  #INPUTS:\n",
    "  ## counts: word count matrix\n",
    "  ## K: the number of clusters\n",
    "  #OUTPUTS:\n",
    "  ## model: a list of model parameters\n",
    "  \n",
    "  # Model Parameter Setting\n",
    "  N <- dim(counts)[2] # number of documents\n",
    "  W <- dim(counts)[1] # number of unique words (in all documents)\n",
    "  \n",
    "  # Initialization\n",
    "  model <- initial.param(W, K=K, seed=seed)\n",
    "  gamma <- matrix(0, nrow = N, ncol = K)\n",
    "\n",
    "  print(train_obj(model,counts))\n",
    "  # Build the model\n",
    "  for(epoch in 1:max.epoch){\n",
    "    \n",
    "    # E Step\n",
    "    gamma <- Ehard.step(gamma, model, counts)\n",
    "    # M Step\n",
    "    model <- M.step(gamma, model, counts)\n",
    "   \n",
    "    print(train_obj(model,counts)) \n",
    "  }\n",
    "  # Return Model\n",
    "  return(list(\"model\"=model,\"gamma\"=gamma))\n",
    "}"
   ]
  },
  {
   "cell_type": "markdown",
   "metadata": {},
   "source": [
    "We now build the negative log-likelihood function as our training objective which calculates the negative log likelihood of the counts belonging to the model.We then create a cluster visualization function for visualizing the clusters."
   ]
  },
  {
   "cell_type": "code",
   "execution_count": 29,
   "metadata": {},
   "outputs": [],
   "source": [
    "##--- the training objective function --------------------------------------------\n",
    "# Input: \n",
    "#    model:  the model object containing the mu and rho\n",
    "#    counts: the word-document frequency matrix\n",
    "# Output:\n",
    "#    nloglike: the negative log-likelihood i.e. log P(counts|model) \n",
    "#   \n",
    "train_obj <- function(model, counts) { \n",
    "  N <- dim(counts)[2] # number of documents\n",
    "  K <- dim(model$mu)[1]\n",
    "   \n",
    "  nloglike = 0\n",
    "  for (n in 1:N){\n",
    "    lprob <- matrix(0,ncol = 1, nrow=K)\n",
    "    for (k in 1:K){\n",
    "      lprob[k,1] = sum(counts[,n] * log(model$mu[k,])) \n",
    "    }\n",
    "    nloglike <- nloglike - logSum(lprob + log(model$rho))\n",
    "  }\n",
    "  \n",
    "  return (nloglike)\n",
    "}\n",
    "\n",
    "##--- Cluster Visualization -------------------------------------------------\n",
    "cluster.viz <- function(doc.word.mat, color.vector, title=' '){\n",
    "  p.comp <- prcomp(doc.word.mat, scale. = TRUE, center = TRUE)\n",
    "  plot(p.comp$x, col=color.vector, pch=1,  main=title)\n",
    "}"
   ]
  },
  {
   "cell_type": "markdown",
   "metadata": {},
   "source": [
    "We now the store the results for hard clustering from EM_hard and pass it to cluster.viz which visualizes the clusters."
   ]
  },
  {
   "cell_type": "code",
   "execution_count": 30,
   "metadata": {},
   "outputs": [
    {
     "name": "stdout",
     "output_type": "stream",
     "text": [
      "[1] 2180904\n",
      "[1] 1949401\n",
      "[1] 1931138\n",
      "[1] 1922048\n",
      "[1] 1918474\n",
      "[1] 1916824\n"
     ]
    },
    {
     "data": {
      "image/png": "[encoded data removed]",
      "text/plain": [
       "Plot with title \"Estimated Clusters (Hard EM)\""
      ]
     },
     "metadata": {},
     "output_type": "display_data"
    },
    {
     "data": {
      "image/png": "[encoded data removed]",
      "text/plain": [
       "Plot with title \"Real Clusters\""
      ]
     },
     "metadata": {},
     "output_type": "display_data"
    }
   ],
   "source": [
    "# word-document frequency matrix \n",
    "counts <- data$word.doc.mat \n",
    "\n",
    "# below is toy data if you want to work with\n",
    "#counts <- matrix(c(1,1,0,1,0,0,0,1,1,1,0,1,0,0,1,1,0,0),nrow=3,ncol=6)\n",
    "# calling the EM algorithm on the data\n",
    "res <- EM_hard(counts, K=4, max.epoch=5)   \n",
    "\n",
    "# visualization\n",
    "## find the culster with the maximum probability (since we have soft assignment here)\n",
    "label.hat <- apply(res$gamma, 1, which.max) \n",
    "## normalize the count matrix for better visualization\n",
    "counts<-scale(counts) # only use when the dimensionality of the data (number of words) is large enough\n",
    "## visualize the estimated clusters\n",
    "cluster.viz(t(counts), label.hat, 'Estimated Clusters (Hard EM)')\n",
    "\n",
    "## visualize the real clusters\n",
    "cluster.viz(t(counts), factor(data$label), 'Real Clusters')"
   ]
  },
  {
   "cell_type": "markdown",
   "metadata": {},
   "source": [
    "We do the same below for soft clustering."
   ]
  },
  {
   "cell_type": "code",
   "execution_count": 31,
   "metadata": {},
   "outputs": [
    {
     "name": "stdout",
     "output_type": "stream",
     "text": [
      "[1] 2170696\n",
      "[1] 1950012\n",
      "[1] 1935135\n",
      "[1] 1923313\n",
      "[1] 1917463\n",
      "[1] 1914809\n"
     ]
    },
    {
     "data": {
      "image/png": "[encoded data removed]",
      "text/plain": [
       "Plot with title \"Estimated Clusters (Soft EM)\""
      ]
     },
     "metadata": {},
     "output_type": "display_data"
    },
    {
     "data": {
      "image/png": "[encoded data removed]",
      "text/plain": [
       "Plot with title \"Real Clusters\""
      ]
     },
     "metadata": {},
     "output_type": "display_data"
    }
   ],
   "source": [
    "# word-document frequency matrix \n",
    "counts <- data$word.doc.mat \n",
    "\n",
    "# below is toy data if you want to work with\n",
    "#counts <- matrix(c(1,1,0,1,0,0,0,1,1,1,0,1,0,0,1,1,0,0),nrow=3,ncol=6)\n",
    "# calling the EM algorithm on the data\n",
    "res <- EM_soft(counts, K=4, max.epoch=5)   \n",
    "\n",
    "# visualization\n",
    "## find the culster with the maximum probability (since we have soft assignment here)\n",
    "label.hat <- apply(res$gamma, 1, which.max) \n",
    "## normalize the count matrix for better visualization\n",
    "counts<-scale(counts) # only use when the dimensionality of the data (number of words) is large enough\n",
    "## visualize the estimated clusters\n",
    "cluster.viz(t(counts), label.hat, 'Estimated Clusters (Soft EM)')\n",
    "\n",
    "## visualize the real clusters\n",
    "cluster.viz(t(counts), factor(data$label), 'Real Clusters')"
   ]
  }
 ],
 "metadata": {
  "kernelspec": {
   "display_name": "R",
   "language": "R",
   "name": "ir"
  },
  "language_info": {
   "codemirror_mode": "r",
   "file_extension": ".r",
   "mimetype": "text/x-r-source",
   "name": "R",
   "pygments_lexer": "r",
   "version": "3.6.0"
  }
 },
 "nbformat": 4,
 "nbformat_minor": 2
}
