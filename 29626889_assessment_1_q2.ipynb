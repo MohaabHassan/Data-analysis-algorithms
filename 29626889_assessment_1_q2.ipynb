{
 "cells": [
  {
   "cell_type": "markdown",
   "metadata": {},
   "source": [
    "# Question 2 [L-fold Cross Validation]"
   ]
  },
  {
   "cell_type": "markdown",
   "metadata": {},
   "source": [
    "#### For the second question, we are required to implement a L-fold cross validation function for the KNN regressor implemented in question 1 of the assignment. L-fold cross validation is a resampling procedure used to evaluate machine learning models on a limited data sample. The procedure has a single parameter called 'L' that refers to the number of groups that a given data sample is to be split into. \n",
    "\n",
    "#### We begin with loading the data from the previous question and the knn function as well."
   ]
  },
  {
   "cell_type": "code",
   "execution_count": 24,
   "metadata": {},
   "outputs": [],
   "source": [
    "library(reshape2)\n",
    "library(ggplot2)"
   ]
  },
  {
   "cell_type": "code",
   "execution_count": 25,
   "metadata": {},
   "outputs": [],
   "source": [
    "\n",
    "data <- read.csv('Task1A_train.csv')\n",
    "data_test <- read.csv('Task1A_test.csv')\n",
    "training_data <- data['x1']\n",
    "training_label <- data['y']\n",
    "test_data <- data_test['x1']\n",
    "test_label <- data_test['y']"
   ]
  },
  {
   "cell_type": "markdown",
   "metadata": {},
   "source": [
    "KNN function from question 1."
   ]
  },
  {
   "cell_type": "code",
   "execution_count": 26,
   "metadata": {},
   "outputs": [],
   "source": [
    "\n",
    "# KNN function (distance should be one of euclidean, maximum, manhattan, canberra, binary or minkowski)\n",
    "knn <- function(train.data, train.label, test.data, K, distance = 'euclidean'){\n",
    "  ## count number of train samples\n",
    "  train.len <- nrow(train.data)\n",
    "  \n",
    "  ## count number of test samples\n",
    "  test.len <- nrow(test.data)\n",
    "  \n",
    "  ## calculate distances between samples\n",
    "  dist <- as.matrix(dist(rbind(test.data, train.data), method= distance))[1:test.len, (test.len+1):(test.len+train.len)]\n",
    "  \n",
    "  ## for each test sample...\n",
    "  test.label<- c()\n",
    "  #test.data <- data.frame(test.data)\n",
    "  #test.data<-data.frame(x1 = c(test.data))\n",
    "  \n",
    "  \n",
    "  for (i in 1:test.len){\n",
    "    ### ...find its K nearest neighbours from training sampels...\n",
    "    nn <- as.data.frame(sort(dist[i,], index.return = TRUE))[1:K,2]\n",
    "    \n",
    "    ###... and calculate the predicted labels according to the majority vote\n",
    "    test.label[i]<- (mean(train.label[nn,1]))\n",
    "  }\n",
    "  \n",
    "  ## return the class labels as output\n",
    "  return (test.label)\n",
    "}"
   ]
  },
  {
   "cell_type": "markdown",
   "metadata": {},
   "source": [
    "Below we implement the L-fold cross validation function. The function takes 4 parameters which is the training data, the training label, number of neighbors 'k' and the number of folds i.e. numFold (L). The function does the following steps,\n",
    "- Creates a dataframe to store the errors for different values of k.\n",
    "- Creates L equally sized folds of the data.\n",
    "- For each fold, subset the data to training and testing and run knn and record the error on these folds.\n",
    "- We then return the mean of these errors back to the miss dataframe."
   ]
  },
  {
   "cell_type": "code",
   "execution_count": 27,
   "metadata": {},
   "outputs": [],
   "source": [
    "\n",
    "cv<- function(train.data, train.label, K, numFold=10){\n",
    "  #Randomly shuffle the data\n",
    "  miss <- data.frame('K'=1:10, 'Error'=rep(0,10))\n",
    "  #train.data<-train.data[sample(nrow(train.data)),]\n",
    "  \n",
    "  #Create 10 equally size folds\n",
    "  folds <- cut(seq(1,nrow(train.data)),breaks=numFold,labels=FALSE)\n",
    "  \n",
    "  #Perform 10 fold cross validation\n",
    "  for(i in 1:numFold){\n",
    "    #Segement your data by fold using the which() function \n",
    "    testIndexes <- which(folds==i,arr.ind=TRUE)\n",
    "    testData <- train.data[testIndexes, ]\n",
    "    testLabel<- train.label[testIndexes, ]\n",
    "    trainData <- train.data[-testIndexes, ]\n",
    "    trainLabel<- train.label[-testIndexes, ]\n",
    "    trainData<-data.frame(trainData)\n",
    "    colnames(trainData) <- c(\"x1\")\n",
    "    trainLabel<-data.frame(y<-trainLabel)\n",
    "    colnames(trainLabel) <- c(\"y\")\n",
    "    testData<-data.frame(x1<-testData)\n",
    "    colnames(testData) <- c(\"x1\")\n",
    "    knn(trainData,trainLabel,trainData,K,distance='euclidean')\n",
    "    miss[i,'Error'] <-  sqrt(sum((testLabel - knn(trainData, trainLabel, testData, K=K))**2)/nrow(testData))\n",
    "    \n",
    "  }\n",
    "  return(mean(miss$Error))\n",
    "}\n",
    "\n",
    "\n"
   ]
  },
  {
   "cell_type": "markdown",
   "metadata": {},
   "source": [
    "The code below stores the test error for 1.2....15 values of K by passing them through the cross validation function. As in KNN, we use RMSE here as well for our error metric."
   ]
  },
  {
   "cell_type": "code",
   "execution_count": 28,
   "metadata": {},
   "outputs": [],
   "source": [
    "miss <- data.frame('K'=1:15, 'Error'=rep(0,15))\n",
    "for(K in 1:15)\n",
    "{\n",
    "  miss[K,'Error']=cv(training_data,training_label,K,10)\n",
    "\n",
    "  \n",
    "}"
   ]
  },
  {
   "cell_type": "code",
   "execution_count": 29,
   "metadata": {},
   "outputs": [],
   "source": [
    "miss.m <- melt(miss, id='K') # reshape for visualization\n",
    "names(miss.m) <- c('K', 'type', 'RMSE')"
   ]
  },
  {
   "cell_type": "code",
   "execution_count": 33,
   "metadata": {},
   "outputs": [
    {
     "data": {
      "text/html": [
       "<table>\n",
       "<thead><tr><th scope=col>K</th><th scope=col>type</th><th scope=col>RMSE</th></tr></thead>\n",
       "<tbody>\n",
       "\t<tr><td> 1       </td><td>Error    </td><td>0.9064516</td></tr>\n",
       "\t<tr><td> 2       </td><td>Error    </td><td>0.9248274</td></tr>\n",
       "\t<tr><td> 3       </td><td>Error    </td><td>1.0076324</td></tr>\n",
       "\t<tr><td> 4       </td><td>Error    </td><td>0.9307078</td></tr>\n",
       "\t<tr><td> 5       </td><td>Error    </td><td>0.9602899</td></tr>\n",
       "\t<tr><td> 6       </td><td>Error    </td><td>0.9295822</td></tr>\n",
       "\t<tr><td> 7       </td><td>Error    </td><td>1.0283564</td></tr>\n",
       "\t<tr><td> 8       </td><td>Error    </td><td>0.9793313</td></tr>\n",
       "\t<tr><td> 9       </td><td>Error    </td><td>1.0941474</td></tr>\n",
       "\t<tr><td>10       </td><td>Error    </td><td>1.0688254</td></tr>\n",
       "\t<tr><td>11       </td><td>Error    </td><td>1.1758569</td></tr>\n",
       "\t<tr><td>12       </td><td>Error    </td><td>1.1542295</td></tr>\n",
       "\t<tr><td>13       </td><td>Error    </td><td>1.2783540</td></tr>\n",
       "\t<tr><td>14       </td><td>Error    </td><td>1.2742742</td></tr>\n",
       "\t<tr><td>15       </td><td>Error    </td><td>1.4097080</td></tr>\n",
       "</tbody>\n",
       "</table>\n"
      ],
      "text/latex": [
       "\\begin{tabular}{r|lll}\n",
       " K & type & RMSE\\\\\n",
       "\\hline\n",
       "\t  1        & Error     & 0.9064516\\\\\n",
       "\t  2        & Error     & 0.9248274\\\\\n",
       "\t  3        & Error     & 1.0076324\\\\\n",
       "\t  4        & Error     & 0.9307078\\\\\n",
       "\t  5        & Error     & 0.9602899\\\\\n",
       "\t  6        & Error     & 0.9295822\\\\\n",
       "\t  7        & Error     & 1.0283564\\\\\n",
       "\t  8        & Error     & 0.9793313\\\\\n",
       "\t  9        & Error     & 1.0941474\\\\\n",
       "\t 10        & Error     & 1.0688254\\\\\n",
       "\t 11        & Error     & 1.1758569\\\\\n",
       "\t 12        & Error     & 1.1542295\\\\\n",
       "\t 13        & Error     & 1.2783540\\\\\n",
       "\t 14        & Error     & 1.2742742\\\\\n",
       "\t 15        & Error     & 1.4097080\\\\\n",
       "\\end{tabular}\n"
      ],
      "text/markdown": [
       "\n",
       "| K | type | RMSE |\n",
       "|---|---|---|\n",
       "|  1        | Error     | 0.9064516 |\n",
       "|  2        | Error     | 0.9248274 |\n",
       "|  3        | Error     | 1.0076324 |\n",
       "|  4        | Error     | 0.9307078 |\n",
       "|  5        | Error     | 0.9602899 |\n",
       "|  6        | Error     | 0.9295822 |\n",
       "|  7        | Error     | 1.0283564 |\n",
       "|  8        | Error     | 0.9793313 |\n",
       "|  9        | Error     | 1.0941474 |\n",
       "| 10        | Error     | 1.0688254 |\n",
       "| 11        | Error     | 1.1758569 |\n",
       "| 12        | Error     | 1.1542295 |\n",
       "| 13        | Error     | 1.2783540 |\n",
       "| 14        | Error     | 1.2742742 |\n",
       "| 15        | Error     | 1.4097080 |\n",
       "\n"
      ],
      "text/plain": [
       "   K  type  RMSE     \n",
       "1   1 Error 0.9064516\n",
       "2   2 Error 0.9248274\n",
       "3   3 Error 1.0076324\n",
       "4   4 Error 0.9307078\n",
       "5   5 Error 0.9602899\n",
       "6   6 Error 0.9295822\n",
       "7   7 Error 1.0283564\n",
       "8   8 Error 0.9793313\n",
       "9   9 Error 1.0941474\n",
       "10 10 Error 1.0688254\n",
       "11 11 Error 1.1758569\n",
       "12 12 Error 1.1542295\n",
       "13 13 Error 1.2783540\n",
       "14 14 Error 1.2742742\n",
       "15 15 Error 1.4097080"
      ]
     },
     "metadata": {},
     "output_type": "display_data"
    }
   ],
   "source": [
    "miss.m"
   ]
  },
  {
   "cell_type": "markdown",
   "metadata": {},
   "source": [
    "The below code generates the plot for test error various values of K."
   ]
  },
  {
   "cell_type": "code",
   "execution_count": 32,
   "metadata": {},
   "outputs": [
    {
     "data": {
      "image/png": "[encoded data removed]",
      "text/plain": [
       "plot without title"
      ]
     },
     "metadata": {},
     "output_type": "display_data"
    }
   ],
   "source": [
    "ggplot(data=miss.m, aes(x=1/K, y=RMSE, color=type)) + geom_line() +\n",
    "  scale_color_discrete(guide = guide_legend(title = NULL)) + theme_minimal() +\n",
    "  ggtitle(\"RMSE\")\n",
    "#knn(training_data,training_label,test_data,K=4,distance='euclidean')"
   ]
  },
  {
   "cell_type": "markdown",
   "metadata": {},
   "source": [
    "As we can see from the plot, with a small value of k, our training data error is very small due to overfitting of data due to very low bias. But as the size of k increases, the complexity of the model increases, which will lead to an increase on the error in the training data but will lead to a decrease of the error in test data. Also, if we use a very high value of 'k', as in the first question would lead to underfitting of the data leading to a high error on the training data again. The optimal value of k lies somewhere around 8 neighbors(i.e. 1/k = 0.25). This region is where we can find a low test region for the model fitted on the data."
   ]
  },
  {
   "cell_type": "code",
   "execution_count": null,
   "metadata": {},
   "outputs": [],
   "source": []
  }
 ],
 "metadata": {
  "kernelspec": {
   "display_name": "R",
   "language": "R",
   "name": "ir"
  },
  "language_info": {
   "codemirror_mode": "r",
   "file_extension": ".r",
   "mimetype": "text/x-r-source",
   "name": "R",
   "pygments_lexer": "r",
   "version": "3.6.0"
  }
 },
 "nbformat": 4,
 "nbformat_minor": 2
}
