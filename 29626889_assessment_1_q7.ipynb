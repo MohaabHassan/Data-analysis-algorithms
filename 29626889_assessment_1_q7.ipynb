{
 "cells": [
  {
   "cell_type": "markdown",
   "metadata": {},
   "source": [
    "## Logistic regression v/s Bayesian classifier\n",
    "#### In this question of the assignment, we are asked to implement a logistic regression model and a Bayesian classifier starting by training it on a dataset of size 5 and increasing it incremently by 5. \n",
    "Firstly, in Bayesian classifier, we shall adopt a generative (probabilistic) approach in which we model the class-conditional densities p(x|Ck), as well as the class priors p(Ck), and then use these to compute posterior probabilities p(Ck|x) through Bayes’ theorem.\n",
    "However, in logistic regression, we use generalised linear models to directly get the posterior probability of classes, and aim to learn the parameters by maximum likelihood.\n",
    "\n",
    "We first begin by implementing a Bayesian classifier. This begins by reading the data."
   ]
  },
  {
   "cell_type": "code",
   "execution_count": 37,
   "metadata": {},
   "outputs": [],
   "source": [
    "library(ggplot2)# for plotting functions.\n",
    "library(reshape2) # for melt and cast functions\n",
    "library(mvtnorm) #Computes multivariate normal and t probabilities, quantiles, random deviates and densities."
   ]
  },
  {
   "cell_type": "code",
   "execution_count": 38,
   "metadata": {},
   "outputs": [],
   "source": [
    "train<-read.csv('Task1E_train.csv')\n",
    "test<-read.csv('Task1E_test.csv')"
   ]
  },
  {
   "cell_type": "code",
   "execution_count": 39,
   "metadata": {},
   "outputs": [],
   "source": [
    "test.data <- test[,1:2]\n",
    "test.label <-  test[,3]"
   ]
  },
  {
   "cell_type": "code",
   "execution_count": 40,
   "metadata": {},
   "outputs": [],
   "source": [
    "train.data <- train[,1:2]\n",
    "train.label <-  train[,3]"
   ]
  },
  {
   "cell_type": "markdown",
   "metadata": {},
   "source": [
    "We plot the distribution for labels."
   ]
  },
  {
   "cell_type": "code",
   "execution_count": 41,
   "metadata": {},
   "outputs": [
    {
     "data": {
      "image/png": "[encoded data removed]",
      "text/plain": [
       "plot without title"
      ]
     },
     "metadata": {},
     "output_type": "display_data"
    }
   ],
   "source": [
    "ggplot(data=train, aes(x=x1, y=x2, color=factor(y), label=ifelse(y==+1, '+', '-'))) +\n",
    "geom_text(size = 5, alpha=0.5) +\n",
    "ggtitle ('Data set') +\n",
    "theme_minimal()"
   ]
  },
  {
   "cell_type": "markdown",
   "metadata": {},
   "source": [
    "### Steps to Build A Bayesian Classifier\n",
    "These are the steps to build a bayesian Classifier:\n",
    "<ol>\n",
    "\t<li>Calculate the class priors $p(\\mathcal{C}_k)$ based on the relative number of training data in each class,</li>\n",
    "\t<li>Calculate the class means $\\mu_k$, class covariance matrices $\\mathbf{S}_k$ and shared covariance matrix $\\Sigma$ using the training data,</li>\n",
    "\t<li>Using the estimated PDF function, calculate $p(x_n|\\mathcal{C}_k)$ for each data point and each class,</li>\n",
    "\t<li>For each test sample, find the class label $\\mathcal{C}_k$ that maximizes the $p(\\mathcal{C}_k)p(x_n|\\mathcal{C}_k)$,</li>\n",
    "</ol>\n"
   ]
  },
  {
   "cell_type": "markdown",
   "metadata": {},
   "source": [
    "**Step 1:** Let's start with calculating the class probabilities and compare the obtained values with the real class probabilites.\n"
   ]
  },
  {
   "cell_type": "code",
   "execution_count": 42,
   "metadata": {},
   "outputs": [],
   "source": [
    "#dataframe to store Missclassificatio Rate \n",
    "miss <- data.frame('Size'=double(), 'Test'=double(),'Model'=character())\n",
    "for (i in  seq(5, nrow(train.data), by=5))\n",
    "{    \n",
    "    #consider increment in 5 data points everytime\n",
    "    train_label =train.label[1:i]\n",
    "    train_data =train.data[1:i,]\n",
    "   \n",
    "    \n",
    "    # Step 1: Calcualte Class probabilities:\n",
    "    p0.hat <- sum(train_label==+1)/nrow(train_data) # total number of samples in class 0 divided by the total nmber of training data\n",
    "    p1.hat <- 1 - p0.hat # or simply 1 - p1.hat\n",
    "    \n",
    "     \n",
    "    # Step 2: Calcualte Class means:\n",
    "    mu0.hat <- colMeans(train_data[train_label==+1,])\n",
    "    mu1.hat <- colMeans(train_data[train_label==-1,])\n",
    "    \n",
    "    \n",
    "    # Step 2 : Calcualte class covariance matrices:\n",
    "    sigma0.hat <- var(train_data[train_label==+1,])\n",
    "    sigma1.hat <- var(train_data[train_label==-1,])\n",
    "  \n",
    "    \n",
    "    \n",
    "    # Step2: Calculate shared covariance matrix:\n",
    "    sigma.hat <- p0.hat * sigma0.hat + p1.hat * sigma1.hat \n",
    "  \n",
    "    # Step 3 : calculate Posterior Probability:\n",
    "    posterior0 <- p0.hat*dmvnorm(x=train_data, mean=mu0.hat, sigma=sigma.hat)\n",
    "    posterior1 <- p1.hat*dmvnorm(x=train_data, mean=mu1.hat, sigma=sigma.hat)\n",
    "    \n",
    "    \n",
    "    # Step 4 : calculate predictionsbased on Posterior Probability:\n",
    "    train.predict <- ifelse(posterior0 > posterior1, +1, -1)\n",
    "    test.predict <- ifelse(p0.hat*dmvnorm(x=test.data, mean=mu0.hat, sigma=sigma.hat) > p1.hat*dmvnorm(x=test.data, mean=mu1.hat, sigma=sigma.hat), +1, -1)\n",
    "\n",
    "    # calculate Misscalssification rates:\n",
    "    \n",
    "    error<-(sum(test.label!=test.predict)/nrow(test.data)*100)\n",
    "    # store it in a dataframe2\n",
    "    de <- list('Size'=i, 'Test'=error,'Model'='BC')\n",
    "    miss<-rbind(miss,de, stringsAsFactors=FALSE)\n",
    "    \n",
    "\n",
    " \n",
    "}"
   ]
  },
  {
   "cell_type": "code",
   "execution_count": 44,
   "metadata": {},
   "outputs": [
    {
     "data": {
      "text/html": [
       "<table>\n",
       "<thead><tr><th scope=col>Size</th><th scope=col>Test</th><th scope=col>Model</th></tr></thead>\n",
       "<tbody>\n",
       "\t<tr><td> 5  </td><td>68.4</td><td>BC  </td></tr>\n",
       "\t<tr><td>10  </td><td> 1.4</td><td>BC  </td></tr>\n",
       "\t<tr><td>15  </td><td> 1.8</td><td>BC  </td></tr>\n",
       "\t<tr><td>20  </td><td> 1.8</td><td>BC  </td></tr>\n",
       "\t<tr><td>25  </td><td> 2.4</td><td>BC  </td></tr>\n",
       "\t<tr><td>30  </td><td> 1.6</td><td>BC  </td></tr>\n",
       "\t<tr><td>35  </td><td> 2.2</td><td>BC  </td></tr>\n",
       "\t<tr><td>40  </td><td> 2.4</td><td>BC  </td></tr>\n",
       "\t<tr><td>45  </td><td> 2.4</td><td>BC  </td></tr>\n",
       "\t<tr><td>50  </td><td> 2.4</td><td>BC  </td></tr>\n",
       "</tbody>\n",
       "</table>\n"
      ],
      "text/latex": [
       "\\begin{tabular}{r|lll}\n",
       " Size & Test & Model\\\\\n",
       "\\hline\n",
       "\t  5   & 68.4 & BC  \\\\\n",
       "\t 10   &  1.4 & BC  \\\\\n",
       "\t 15   &  1.8 & BC  \\\\\n",
       "\t 20   &  1.8 & BC  \\\\\n",
       "\t 25   &  2.4 & BC  \\\\\n",
       "\t 30   &  1.6 & BC  \\\\\n",
       "\t 35   &  2.2 & BC  \\\\\n",
       "\t 40   &  2.4 & BC  \\\\\n",
       "\t 45   &  2.4 & BC  \\\\\n",
       "\t 50   &  2.4 & BC  \\\\\n",
       "\\end{tabular}\n"
      ],
      "text/markdown": [
       "\n",
       "| Size | Test | Model |\n",
       "|---|---|---|\n",
       "|  5   | 68.4 | BC   |\n",
       "| 10   |  1.4 | BC   |\n",
       "| 15   |  1.8 | BC   |\n",
       "| 20   |  1.8 | BC   |\n",
       "| 25   |  2.4 | BC   |\n",
       "| 30   |  1.6 | BC   |\n",
       "| 35   |  2.2 | BC   |\n",
       "| 40   |  2.4 | BC   |\n",
       "| 45   |  2.4 | BC   |\n",
       "| 50   |  2.4 | BC   |\n",
       "\n"
      ],
      "text/plain": [
       "   Size Test Model\n",
       "1   5   68.4 BC   \n",
       "2  10    1.4 BC   \n",
       "3  15    1.8 BC   \n",
       "4  20    1.8 BC   \n",
       "5  25    2.4 BC   \n",
       "6  30    1.6 BC   \n",
       "7  35    2.2 BC   \n",
       "8  40    2.4 BC   \n",
       "9  45    2.4 BC   \n",
       "10 50    2.4 BC   "
      ]
     },
     "metadata": {},
     "output_type": "display_data"
    }
   ],
   "source": [
    "head(miss,10)"
   ]
  },
  {
   "cell_type": "markdown",
   "metadata": {},
   "source": [
    "We now implement a logistic regression model. \n",
    "## Steps to Build a Logistic Regression\n",
    "Taking the following steps is neccesseary to build a logistic regression:\n",
    "<ol>\n",
    "\t<li>Implement sigmoid function $\\sigma(\\pmb{w}.\\mathbf{x})$, and initialize weight vector $\\pmb{w}$, learning rate $\\eta$ and stopping criterion $\\epsilon$.</li>\n",
    "\t<li>Repeat the followings until the improvement becomes negligible (i.e., $|\\mathcal{L}(\\pmb{w}^{(\\tau+1)})-\\mathcal{L}(\\pmb{w}^{(\\tau)})| \\lt \\epsilon$):\n",
    "<ol>\n",
    "\t<li>Shuffle the training data</li>\n",
    "\t<li>For each datapoint in the training data do:\n",
    "<ol>\n",
    "\t<li>$\\pmb{w}^{(\\tau+1)} := \\pmb{w}^{(\\tau)} - \\eta (\\sigma(\\pmb{w}.\\mathbf{x}) - t_n) \\pmb{x}_n$</li>\n",
    "</ol>\n",
    "</li>\n",
    "</ol>\n",
    "</li>\n",
    "</ol>\n",
    "\n",
    "In the followings, we implement each of these steps for every batch of training data\n"
   ]
  },
  {
   "cell_type": "markdown",
   "metadata": {},
   "source": [
    "Auxiliary functions for predict and cost."
   ]
  },
  {
   "cell_type": "code",
   "execution_count": 45,
   "metadata": {},
   "outputs": [],
   "source": [
    "# auxiliary function that predicts class labels\n",
    "predict <- function(w, X, c0, c1){\n",
    "    sig <- sigmoid(w, X) # if greater than 0.5 class 1 else class 0\n",
    "    return(ifelse(sig>0.5, c1,c0))\n",
    "}\n",
    "    \n",
    "# auxiliary function that calculate a cost function\n",
    "cost <- function (w, X, T, c0){\n",
    "    sig <- sigmoid(w, X)\n",
    "    return(sum(ifelse(T==c0, 1-sig, sig)))\n",
    "}"
   ]
  },
  {
   "cell_type": "markdown",
   "metadata": {},
   "source": [
    "**Step 1 (Sigmoid):** We define our sigmoid functions.\n"
   ]
  },
  {
   "cell_type": "code",
   "execution_count": 46,
   "metadata": {},
   "outputs": [],
   "source": [
    "# Sigmoid function (=p(C1|X))\n",
    "sigmoid <- function(w, x){\n",
    "    return(1.0/(1.0+exp(-w%*%t(cbind(1,x)))))    \n",
    "}"
   ]
  },
  {
   "cell_type": "markdown",
   "metadata": {},
   "source": [
    "**Step 2:** Here, we use SGD to learn the weight vector. Note that there are two loops. In the outter loop, we shuffle the samples and then start the inner loop. In the inner loop, we visit the training samples one by one and update the weights accordingly."
   ]
  },
  {
   "cell_type": "code",
   "execution_count": 49,
   "metadata": {},
   "outputs": [],
   "source": [
    "for (i in  seq(5, nrow(train.data), by=5))\n",
    "{    \n",
    "# consider increment in 5 data points everytime\n",
    "train.index <- 1:i\n",
    "train.data <- train[train.index,-3]\n",
    "train.label <- train[train.index,3]\n",
    "train.len <- i\n",
    "# Intialialize the parameter\n",
    "tau.max <- 1000 # maximum number of iterations\n",
    "eta <- 0.01 # learning rate\n",
    "epsilon <- 0.01 # a threshold on the cost (to terminate the process)\n",
    "tau <- 1 # iteration counter\n",
    "terminate <- FALSE\n",
    "\n",
    "## Just a few name/type conversion to make the rest of the code easy to follow\n",
    "X <- as.matrix(train.data) # rename just for conviniance\n",
    "T <- ifelse(train.label==c0,0,1) # rename just for conviniance\n",
    "\n",
    "W <- matrix(,nrow=tau.max, ncol=(ncol(X)+1)) # to be used to store the estimated coefficients\n",
    "W[1,] <- runif(ncol(W)) # initial weight (any better idea?)\n",
    "\n",
    "# project data using the sigmoid function (just for convenient)\n",
    "Y <- sigmoid(W[1,],X)\n",
    "\n",
    "costs <- data.frame('tau'=1:tau.max)  # to be used to trace the cost in each iteration\n",
    "costs[1, 'cost'] <- cost(W[1,],X,T, c0)\n",
    "\n",
    "while(!terminate){\n",
    "    # check termination criteria:\n",
    "    terminate <- tau >= tau.max | cost(W[tau,],X,T, c0)<=epsilon\n",
    "    \n",
    "    # shuffle data:\n",
    "    train.index <- sample(1:train.len, train.len, replace = FALSE)\n",
    "    X <- X[train.index,]\n",
    "    T <- T[train.index]\n",
    "    \n",
    "    # for each datapoint:\n",
    "    for (i in 1:train.len){\n",
    "        # check termination criteria:\n",
    "        if (tau >= tau.max | cost(W[tau,],X,T, c0) <=epsilon) {terminate<-TRUE;break}\n",
    "        \n",
    "        Y <- sigmoid(W[tau,],X)\n",
    "            \n",
    "        # Update the weights\n",
    "        W[(tau+1),] <- W[tau,] - eta * (Y[i]-T[i]) * cbind(1, t(X[i,]))\n",
    "        \n",
    "        # record the cost:\n",
    "        costs[(tau+1), 'cost'] <- cost(W[tau,],X,T, c0)\n",
    "        \n",
    "        # update the counter:\n",
    "        tau <- tau + 1\n",
    "        \n",
    "        # decrease learning rate:\n",
    "        eta = eta * 0.999\n",
    "    }\n",
    "}\n",
    "# Done!\n",
    "costs <- costs[1:tau, ] # remove the NaN tail of the vector (in case of early stopping)\n",
    "\n",
    "# the  final result is:\n",
    "w <- W[tau,]\n",
    "\n",
    "    \n",
    "    error<-sum(predict(w,test.data,c0,c1)!=test.label)/nrow(test.data)*100\n",
    "    de <- list('Size'=i, 'Test'=error,'Model'='LR')\n",
    "    miss<-rbind(miss,de, stringsAsFactors=FALSE)\n",
    "    \n",
    "     \n",
    "   }"
   ]
  },
  {
   "cell_type": "code",
   "execution_count": 50,
   "metadata": {},
   "outputs": [
    {
     "data": {
      "image/png": "[encoded data removed]",
      "text/plain": [
       "plot without title"
      ]
     },
     "metadata": {},
     "output_type": "display_data"
    }
   ],
   "source": [
    "ggplot(data=miss, aes(x=Size, y=Test, color=Model)) + geom_line() +\n",
    "       scale_color_discrete(guide = guide_legend(title = NULL)) + theme_minimal() +\n",
    "       ggtitle(\"RMSE\")"
   ]
  },
  {
   "cell_type": "markdown",
   "metadata": {},
   "source": [
    "### We can see as the size of the dataset increases, the test error decreases for both the classifiers. There is a little uncertainty in test error around logistic regression as it flickers a lot as the size of the dataset increases but has a lower error rate as compared to Bayesian classifier however the bayesian classifier is more certain as the error rate doesn't flicker as much.\n",
    "### When the dataset is very small we can use logistic regression. However, as the size of the dataset increases, to be more certain about our predictions, we may use a Bayesian classifier but if we intend to just minimize the error rate, we can use the logistic regression.\n",
    "### When the size of the dataset is small, we would use logistic regression over bayesian classifier. This is due to the fact that a Bayesian classifier, Suppose the dimension of data point  x is denoted by D. Then, in the generative model we need D(D+1)/2 parameters for the (shared) covariance matrix, 2D parameters for the two means, and 1 parameter for the class prior p(C1); this gives a total of D(D+5)/2+1 parameters which grows quadratically with D. However, we only need D parameters for a discriminative model. Thus, due to a large number of parameters, this will lead to a decrease in bias and the model will overfit as in the case of the Bayesian classifier. However as the size of the dataset increases, the logistic regression model flickers a lot in its error rate due to the limited number of parameters it requires and thus leading to a less flexible model causing underfitting. Thus, a bayesian classifier works well when we have a large dataset and want to be certain abou the predictions. But if we care only about the error rate, then we can go with a logistic regression model."
   ]
  },
  {
   "cell_type": "code",
   "execution_count": null,
   "metadata": {},
   "outputs": [],
   "source": []
  }
 ],
 "metadata": {
  "kernelspec": {
   "display_name": "R",
   "language": "R",
   "name": "ir"
  },
  "language_info": {
   "codemirror_mode": "r",
   "file_extension": ".r",
   "mimetype": "text/x-r-source",
   "name": "R",
   "pygments_lexer": "r",
   "version": "3.6.0"
  }
 },
 "nbformat": 4,
 "nbformat_minor": 2
}
