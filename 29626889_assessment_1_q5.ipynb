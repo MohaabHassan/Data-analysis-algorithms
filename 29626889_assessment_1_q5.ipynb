{
 "cells": [
  {
   "cell_type": "markdown",
   "metadata": {},
   "source": [
    "## Ridge regression\n",
    "#### In this part of the assignment, we are required to implement Stochastic and batch gradient descents with ridge regression. Ridge regression is basically a weight decay because in sequential learning algorithms, it encourages weight values to decay towards zero, unless supported by the data (i.e., only big enough data should result to more complex model). We implement ridge regression with Stochastic and batch gradient descent as done below.\n"
   ]
  },
  {
   "cell_type": "code",
   "execution_count": 1,
   "metadata": {},
   "outputs": [
    {
     "name": "stderr",
     "output_type": "stream",
     "text": [
      "Warning message:\n",
      "\"package 'ggplot2' was built under R version 3.6.1\""
     ]
    }
   ],
   "source": [
    "library(ggplot2)"
   ]
  },
  {
   "cell_type": "code",
   "execution_count": 2,
   "metadata": {},
   "outputs": [],
   "source": [
    "#dfunction to read the data in the desired format\n",
    "read_data <- function(fname, sc) {\n",
    "   data <- read.csv(file=fname,head=TRUE,sep=\",\")\n",
    "   nr = dim(data)[1]\n",
    "   nc = dim(data)[2]\n",
    "   x = data[1:nr,1:(nc-1)]\n",
    "   y = data[1:nr,nc]\n",
    "   if (isTRUE(sc)) {\n",
    "      x = scale(x)\n",
    "      y = scale(y)\n",
    "   }\n",
    "   \n",
    "   return (list(\"x\" = x, \"y\" = y))\n",
    "    \n",
    "}\n"
   ]
  },
  {
   "cell_type": "code",
   "execution_count": 3,
   "metadata": {},
   "outputs": [],
   "source": [
    "#predict labels based on  weight vectore\n",
    "predict_func <- function(Phi, w){\n",
    "    return(Phi%*%w)\n",
    "} "
   ]
  },
  {
   "cell_type": "code",
   "execution_count": 4,
   "metadata": {},
   "outputs": [],
   "source": [
    "# auxiliary function to calculate the objective function for the training\n",
    "train_obj_func <- function (Phi, w, label, lambda){\n",
    "    # the L2 regulariser is already included in the objective function for training \n",
    "    return(mean((predict_func(Phi, w) - label)^2) + .5 * lambda * w %*% w)\n",
    "}"
   ]
  },
  {
   "cell_type": "code",
   "execution_count": 5,
   "metadata": {},
   "outputs": [],
   "source": [
    "# auxiliary function to compute the error of the model\n",
    "get_errors <- function(train_data, test_data, W) {\n",
    "   n_weights = dim(W)[1]\n",
    "   errors = matrix(,nrow=n_weights, ncol=2)\n",
    "   for (tau in 1:n_weights) {\n",
    "       #calculate train error \n",
    "      errors[tau,1] = train_obj_func(train_data$x, W[tau,],train_data$y, 0)\n",
    "       #calculate test error\n",
    "      errors[tau,2] = train_obj_func(test_data$x, W[tau,],test_data$y, 0)\n",
    "   }\n",
    "    #return train and test errors\n",
    "   return(errors)\n",
    "}"
   ]
  },
  {
   "cell_type": "code",
   "execution_count": 6,
   "metadata": {},
   "outputs": [],
   "source": [
    "# implement SGD \n",
    "sgd_train <- function(train_x, train_y, lambda, eta, epsilon, max_epoch) {\n",
    "\n",
    "   train_len = dim(train_x)[1]\n",
    "   tau_max = max_epoch * train_len\n",
    "\n",
    "   W <- matrix(,nrow=tau_max, ncol=ncol(train_x)) \n",
    "   W[1,] <- runif(ncol(train_x))\n",
    "  \n",
    "   tau = 1 # counter \n",
    "   obj_func_val <-matrix(,nrow=tau_max, ncol=1) \n",
    "   obj_func_val[tau,1] = train_obj_func(train_x, W[tau,],train_y, lambda)\n",
    "\n",
    "   while (tau <= tau_max){\n",
    "\n",
    "       # check termination criteria\n",
    "       if (obj_func_val[tau,1]<=epsilon) {break}\n",
    " \n",
    "       # shuffle data:\n",
    "       train_index <- sample(1:train_len, train_len, replace = FALSE)\n",
    "    \n",
    "       # loop over each datapoint\n",
    "       for (i in train_index) {\n",
    "           # increment the counter\n",
    "           tau <- tau + 1\n",
    "           if (tau > tau_max) {break}\n",
    "\n",
    "           # make the weight update\n",
    "           y_pred <- predict_func(train_x[i,], W[tau-1,])\n",
    "           W[tau,] <- sgd_update_weight(W[tau-1,], train_x[i,], train_y[i], y_pred, lambda, eta)\n",
    "\n",
    "           # keep track of the objective funtion\n",
    "           obj_func_val[tau,1] = train_obj_func(train_x, W[tau,],train_y, lambda)\n",
    "       }\n",
    "   }\n",
    "   # resulting values for the training objective function as well as the weights\n",
    "   return(list('vals'=obj_func_val,'W'=W))\n",
    "}\n",
    "\n",
    "\n"
   ]
  },
  {
   "cell_type": "markdown",
   "metadata": {},
   "source": [
    "## Weight update for SGD - <br/>\n",
    "In order to update the weights in SGD, we first require to update the gradient followed by updating the weights. \n",
    "The new gradient becomes $$gradient = (matrix(y_true - y_pred)*x) + \\lambda*W_{prev}$$\n",
    "Hence, the weight update becomes $$W_{prev} - eta*gradient$$"
   ]
  },
  {
   "cell_type": "code",
   "execution_count": 7,
   "metadata": {},
   "outputs": [],
   "source": [
    "# function to update the weights in SGD\n",
    "sgd_update_weight <- function(W_prev, x, y_true, y_pred, lambda, eta) {\n",
    "   # we update the gradient and weights below as mentioned above\n",
    "   gradient = matrix(- (y_true-y_pred) * x) +  lambda*W_prev\n",
    "   return(W_prev - eta * gradient)\n",
    "}"
   ]
  },
  {
   "cell_type": "code",
   "execution_count": 8,
   "metadata": {},
   "outputs": [],
   "source": [
    "bgd_train <- function(train_x, train_y, lambda, eta, epsilon, max_epoch) {\n",
    "\n",
    "   train_len = dim(train_x)[1]\n",
    "\n",
    "   W <- matrix(,nrow=(max_epoch+1), ncol=ncol(train_x))\n",
    "   W[1,] <- runif(ncol(train_x))\n",
    "\n",
    "   tau = 1 # counter \n",
    "   obj_func_val <-matrix(,nrow=(max_epoch+1), ncol=1)\n",
    "   obj_func_val[tau,1] = train_obj_func(train_x, W[tau,],train_y, lambda)\n",
    "\n",
    "   trainin_size = dim(train_x)[1]\n",
    "   for (tau in 1:max_epoch){\n",
    "\n",
    "       # check termination criteria\n",
    "       if (obj_func_val[tau,1]<=epsilon) {break}\n",
    "\n",
    "       # make prediction over the training set\n",
    "       y_pred = train_x %*% W[tau,]\n",
    "\n",
    "       # update the weight you may decide to chose linea search or not (we are not using line search here)\n",
    "       W[tau+1,] = bgd_update_weight(W[tau,], train_x, train_y, y_pred, lambda, eta)\n",
    "\n",
    "       # keep track of the objective funtion\n",
    "       obj_func_val[tau+1,1] = train_obj_func(train_x, W[tau+1,],train_y, lambda)\n",
    "       \n",
    "       \n",
    "   } \n",
    "   # resulting values for the training objective function as well as the weights\n",
    "   return(list('vals'=obj_func_val,'W'=W))\n",
    "}\n",
    "\n"
   ]
  },
  {
   "cell_type": "markdown",
   "metadata": {},
   "source": [
    "## Weight update for BGD - \n",
    "Below are the steps for updating weights in BGD. For a BGD, since we perform it over the entire data at a go, we take colMeans of the gradient and then multiply it with eta and subtract from the weight. This shown below,\n",
    "We update gradient as $$gradient= -colMeans(matrix((y_true-y_pred),nrow=dim(x)[1],ncol=dim(x)[2]) * x) + lambda*W_prev$$\n",
    "<br>\n",
    "so weight update will be $$W_{prev} = - eta * gradient$$"
   ]
  },
  {
   "cell_type": "code",
   "execution_count": 9,
   "metadata": {},
   "outputs": [],
   "source": [
    "# function to update the weights in BGD\n",
    "bgd_update_weight <- function(W_prev, x, y_true, y_pred, lambda, eta) {\n",
    "   # update gradient by adding lambda*W_prev and perform the weight update\n",
    "   gradient = -colMeans(matrix((y_true-y_pred),nrow=dim(x)[1],ncol=dim(x)[2]) * x)+ lambda*W_prev\n",
    "   return (W_prev - eta * gradient)\n",
    "}"
   ]
  },
  {
   "cell_type": "markdown",
   "metadata": {},
   "source": [
    "We now the load the dataset, initialize our parameters and the plot the errors."
   ]
  },
  {
   "cell_type": "code",
   "execution_count": 10,
   "metadata": {},
   "outputs": [],
   "source": [
    "dtrain = read_data(\"Task1C_train.csv\", TRUE)\n",
    "dtest = read_data(\"Task1C_test.csv\", TRUE)\n",
    " \n",
    "  \n",
    "#intialize parameters\n",
    "   max_epoch = 18\n",
    "   epsilon = .001\n",
    "   eta = .01\n",
    "   lambda=0\n",
    "    #store weight updates\n",
    "    options(warn=-1)\n",
    " ##### SGD and BGD Trainng\n",
    "\n",
    "   train_res_sgd = sgd_train(dtrain$x, dtrain$y, lambda, eta, epsilon, max_epoch)\n",
    "    train_res_bgd = bgd_train(dtrain$x, dtrain$y, lambda, eta, epsilon, max_epoch-1)\n",
    "    #find error rate for each weight update iteration both test and train errors \n",
    "    # column one for test error and column two for training errors\n",
    "    errors_sgd = get_errors(dtrain, dtest, train_res_sgd$W) # get errors for SGD\n",
    "    errors_bgd = get_errors(dtrain, dtest, train_res_bgd$W) # get erros for BGD\n"
   ]
  },
  {
   "cell_type": "code",
   "execution_count": 40,
   "metadata": {},
   "outputs": [],
   "source": [
    "# create a dataframe to store the errors for BGD,for every N data points one point of BGD\n",
    "train = read.csv(\"Task1C_train.csv\", TRUE) # we re-read the dataset to get the lenght of the training data\n",
    "len.train<-nrow(train)\n",
    "miss<-c()\n",
    "for( val in errors_bgd[,1])\n",
    "{\n",
    "    start <- length(miss)\n",
    "   end <- start+ len.train\n",
    "    miss[end]<- val\n",
    "}"
   ]
  },
  {
   "cell_type": "code",
   "execution_count": 41,
   "metadata": {},
   "outputs": [],
   "source": [
    "# dataframe to store errors for BGD and SGD\n",
    "plotdataframe<-data.frame('x'=1:length(miss),'SGD'=errors_sgd[,1],'BGD'=miss )"
   ]
  },
  {
   "cell_type": "markdown",
   "metadata": {},
   "source": [
    "Below we plot the errors for SGD and BGD on a single plot and compare their errors."
   ]
  },
  {
   "cell_type": "code",
   "execution_count": 56,
   "metadata": {},
   "outputs": [
    {
     "data": {
      "image/png": "[encoded data removed]",
      "text/plain": [
       "plot without title"
      ]
     },
     "metadata": {},
     "output_type": "display_data"
    }
   ],
   "source": [
    "ggplot(data=plotdataframe,aes(x=x,y=SGD))+geom_point(aes(x=plotdataframe$x,y=plotdataframe$BGD,color = 'red'))+geom_line(aes(x=plotdataframe$x,y=plotdataframe$SGD,color= 'blue'))+ylim(0,1)+ylab('Error') + theme(legend.position = \"none\")\n"
   ]
  },
  {
   "cell_type": "markdown",
   "metadata": {},
   "source": [
    "The blue line above represents the error for batch gradient descent and red line represents the error for stochastic gradient descent. From the above graph, we can ascertain that SGD converges much faster in comparison to BGD. This is due to the fact how these algorithms are designed. In SGD, we process each data point at a time while in batch, we process the entire dataset at a time which is computationally more costly. A thing to note though is in fluctuations of the error rate. In BGD, the error rate decreases in a stable fashion in comparison with SGD where there are multiple fluctuations in the error rate since we process each datapoint at a time. This is due to the fact that in sGD, the number of iterations is 18 x N number of times while in BGD, it fluctuates only 18 number of times.\n",
    "\n",
    "In addition to above, the stochastic gradient descent produces a lower error rate compared to batch gradient descent."
   ]
  },
  {
   "cell_type": "code",
   "execution_count": null,
   "metadata": {},
   "outputs": [],
   "source": []
  }
 ],
 "metadata": {
  "kernelspec": {
   "display_name": "R",
   "language": "R",
   "name": "ir"
  },
  "language_info": {
   "codemirror_mode": "r",
   "file_extension": ".r",
   "mimetype": "text/x-r-source",
   "name": "R",
   "pygments_lexer": "r",
   "version": "3.6.0"
  }
 },
 "nbformat": 4,
 "nbformat_minor": 2
}
