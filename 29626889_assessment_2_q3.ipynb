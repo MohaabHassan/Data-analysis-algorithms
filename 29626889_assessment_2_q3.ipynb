{
 "cells": [
  {
   "cell_type": "markdown",
   "metadata": {},
   "source": [
    "# Part - C :- Self taught learning\n",
    "\n",
    "#### In this part of the assignment, we are asked to construct an autoencoder to predict the labels of an image data. This is followed by creating a neural net for the same and finally creating an augmented self taught learner which first builds an autoencoder and uses the features learnt from the autoencoder and feeds it to the neural network."
   ]
  },
  {
   "cell_type": "markdown",
   "metadata": {},
   "source": [
    "We begin by installing h2o and loading all the necessary packages required."
   ]
  },
  {
   "cell_type": "code",
   "execution_count": 2,
   "metadata": {},
   "outputs": [
    {
     "name": "stderr",
     "output_type": "stream",
     "text": [
      "also installing the dependency 'bitops'\n",
      "\n"
     ]
    },
    {
     "name": "stdout",
     "output_type": "stream",
     "text": [
      "package 'bitops' successfully unpacked and MD5 sums checked\n",
      "package 'RCurl' successfully unpacked and MD5 sums checked\n",
      "\n",
      "The downloaded binary packages are in\n",
      "\tC:\\Users\\mmoh0064\\AppData\\Local\\Temp\\RtmpywkdUi\\downloaded_packages\n"
     ]
    }
   ],
   "source": [
    "# The following two commands remove any previously installed H2O packages for R.\n",
    "if (\"package:h2o\" %in% search()) { detach(\"package:h2o\", unload=TRUE) }\n",
    "if (\"h2o\" %in% rownames(installed.packages())) { remove.packages(\"h2o\") }\n",
    "\n",
    "# Next, we download packages that H2O depends on.\n",
    "pkgs <- c(\"RCurl\",\"jsonlite\")\n",
    "for (pkg in pkgs) {\n",
    "if (! (pkg %in% rownames(installed.packages()))) { install.packages(pkg) }\n",
    "}\n",
    "\n",
    "# Now we download, install and initialize the H2O package for R.\n",
    "install.packages(\"h2o\", type=\"source\", repos=\"http://h2o-release.s3.amazonaws.com/h2o/rel-yau/8/R\")\n"
   ]
  },
  {
   "cell_type": "code",
   "execution_count": 3,
   "metadata": {},
   "outputs": [
    {
     "name": "stderr",
     "output_type": "stream",
     "text": [
      "Registered S3 methods overwritten by 'ggplot2':\n",
      "  method         from \n",
      "  [.quosures     rlang\n",
      "  c.quosures     rlang\n",
      "  print.quosures rlang\n",
      "also installing the dependency 'checkmate'\n",
      "\n"
     ]
    },
    {
     "name": "stdout",
     "output_type": "stream",
     "text": [
      "package 'checkmate' successfully unpacked and MD5 sums checked\n",
      "package 'BBmisc' successfully unpacked and MD5 sums checked\n",
      "\n",
      "The downloaded binary packages are in\n",
      "\tC:\\Users\\mmoh0064\\AppData\\Local\\Temp\\RtmpywkdUi\\downloaded_packages\n"
     ]
    },
    {
     "name": "stderr",
     "output_type": "stream",
     "text": [
      "\n",
      "Attaching package: 'BBmisc'\n",
      "\n",
      "The following object is masked from 'package:base':\n",
      "\n",
      "    isFALSE\n",
      "\n",
      "\n",
      "----------------------------------------------------------------------\n",
      "\n",
      "Your next step is to start H2O:\n",
      "    > h2o.init()\n",
      "\n",
      "For H2O package documentation, ask for help:\n",
      "    > ??h2o\n",
      "\n",
      "After starting H2O, you can use the Web UI at http://localhost:54321\n",
      "For more information visit http://docs.h2o.ai\n",
      "\n",
      "----------------------------------------------------------------------\n",
      "\n",
      "\n",
      "Attaching package: 'h2o'\n",
      "\n",
      "The following objects are masked from 'package:stats':\n",
      "\n",
      "    cor, sd, var\n",
      "\n",
      "The following objects are masked from 'package:base':\n",
      "\n",
      "    %*%, %in%, &&, ||, apply, as.factor, as.numeric, colnames,\n",
      "    colnames<-, ifelse, is.character, is.factor, is.numeric, log,\n",
      "    log10, log1p, log2, round, signif, trunc\n",
      "\n"
     ]
    },
    {
     "name": "stdout",
     "output_type": "stream",
     "text": [
      "\n",
      "H2O is not running yet, starting it now...\n",
      "\n",
      "Note:  In case of errors look at the following log files:\n",
      "    C:\\Users\\mmoh0064\\AppData\\Local\\Temp\\RtmpywkdUi/h2o_mmoh0064_started_from_r.out\n",
      "    C:\\Users\\mmoh0064\\AppData\\Local\\Temp\\RtmpywkdUi/h2o_mmoh0064_started_from_r.err\n",
      "\n",
      "\n",
      "Starting H2O JVM and connecting: . Connection successful!\n",
      "\n",
      "R is connected to the H2O cluster: \n",
      "    H2O cluster uptime:         2 seconds 592 milliseconds \n",
      "    H2O cluster timezone:       Australia/Sydney \n",
      "    H2O data parsing timezone:  UTC \n",
      "    H2O cluster version:        3.26.0.8 \n",
      "    H2O cluster version age:    16 hours and 17 minutes  \n",
      "    H2O cluster name:           H2O_started_from_R_mmoh0064_vyo456 \n",
      "    H2O cluster total nodes:    1 \n",
      "    H2O cluster total memory:   5.33 GB \n",
      "    H2O cluster total cores:    4 \n",
      "    H2O cluster allowed cores:  4 \n",
      "    H2O cluster healthy:        TRUE \n",
      "    H2O Connection ip:          localhost \n",
      "    H2O Connection port:        54321 \n",
      "    H2O Connection proxy:       NA \n",
      "    H2O Internal Security:      FALSE \n",
      "    H2O API Extensions:         Amazon S3, Algos, AutoML, Core V3, TargetEncoder, Core V4 \n",
      "    R Version:                  R version 3.6.1 (2019-07-05) \n",
      "\n"
     ]
    }
   ],
   "source": [
    "library(ggplot2)\n",
    "install.packages('BBmisc')\n",
    "library(BBmisc)\n",
    "library(h2o)\n",
    "options(warn=-1)\n",
    "#If there is a proxy: proxy.old <- Sys.getenv('http_proxy'); Sys.setenv('http_proxy'='');\n",
    "localH2O =  h2o.init(nthreads = -1, port = 54321, max_mem_size = '6G', startH2O = TRUE)\n",
    "\n"
   ]
  },
  {
   "cell_type": "markdown",
   "metadata": {},
   "source": [
    "We now read the dataset and perform some pre-processing on it. In essence, we remove the NA values and standardize the features."
   ]
  },
  {
   "cell_type": "code",
   "execution_count": 5,
   "metadata": {},
   "outputs": [],
   "source": [
    "data_train_labeled <- read.csv('Task2C_labeled.csv')\n",
    "data_train_unlabeled <- read.csv('Task2C_unlabeled.csv')\n",
    "\n",
    "data_train_labeled <- na.omit(data_train_labeled) # remove NA values\n",
    "data_train_unlabeled <- na.omit(data_train_unlabeled) # remove NA values"
   ]
  },
  {
   "cell_type": "code",
   "execution_count": 6,
   "metadata": {},
   "outputs": [],
   "source": [
    "data_train_labeled$label <- as.factor(data_train_labeled$label) # converts the label to a factor\n",
    "data_train_unlabeled$label <- as.factor(data_train_unlabeled$label) # converts the label to a factor\n"
   ]
  },
  {
   "cell_type": "code",
   "execution_count": 7,
   "metadata": {},
   "outputs": [],
   "source": [
    "data_train_labeled <- normalize(data_train_labeled, method = \"standardize\", range = c(0, 1), margin = 2L) # standardizes the features of labelled data\n",
    "data_train_unlabeled <- normalize(data_train_unlabeled, method = \"standardize\", range = c(0, 1), margin = 2L) # standardizes the features of unlabelled data\n"
   ]
  },
  {
   "cell_type": "code",
   "execution_count": 8,
   "metadata": {},
   "outputs": [],
   "source": [
    "write.csv(data_train_labeled, file = \"Task2C_labeled_v1.csv\",row.names = FALSE)\n",
    "write.csv(data_train_unlabeled, file = \"Task2C_unlabeled_v1.csv\",row.names = FALSE)"
   ]
  },
  {
   "cell_type": "markdown",
   "metadata": {},
   "source": [
    "Below we write an auxiliary function for calculating error."
   ]
  },
  {
   "cell_type": "code",
   "execution_count": 9,
   "metadata": {},
   "outputs": [],
   "source": [
    "error.rate <- function(Y1, T1){\n",
    "  if (nrow(Y1)!=nrow(T1)){\n",
    "    stop('error.rate: size of true lables and predicted labels mismatch')\n",
    "  }\n",
    "  return (sum(T1!=Y1)/nrow(T1))\n",
    "}"
   ]
  },
  {
   "cell_type": "markdown",
   "metadata": {},
   "source": [
    "Below we assign a matrix to store reconstruction training error and read the data into a H2OFrame by using h2o.importfile"
   ]
  },
  {
   "cell_type": "code",
   "execution_count": 10,
   "metadata": {},
   "outputs": [
    {
     "name": "stdout",
     "output_type": "stream",
     "text": [
      "  |======================================================================| 100%\n",
      "  |======================================================================| 100%\n",
      "  |======================================================================| 100%\n"
     ]
    }
   ],
   "source": [
    "reconstruction.train.error <- matrix(NA, nrow=27, ncol=2)\n",
    "\n",
    "# Students: Use the \"absolute\" path to the datasets on your machine (important)\n",
    "labeled.frame <- h2o.importFile(path = 'C:/Users/mmoh0064/Task2C_labeled_v1.csv' ,sep=',')\n",
    "unlabeled.frame <- h2o.importFile(path = 'C:/Users/mmoh0064/Task2C_unlabeled_v1.csv' ,sep=',')\n",
    "test.frame <- h2o.importFile(path = 'C:/Users/mmoh0064/Task2C_test.csv' ,sep=',')"
   ]
  },
  {
   "cell_type": "markdown",
   "metadata": {},
   "source": [
    "We now convert the labels to factors and remove the labels from unlabeled data. We then create train.frame which is a combination of labeled and unlabeled data."
   ]
  },
  {
   "cell_type": "code",
   "execution_count": 11,
   "metadata": {},
   "outputs": [],
   "source": [
    "labeled.frame[,1] <- as.factor(labeled.frame$label) #converting labels to factor for labeled data\n",
    "unlabeled.frame[,1] <- NA #removing labels to factor for unlabeled data\n",
    "train.frame <- h2o.rbind(labeled.frame[,-1], unlabeled.frame[,-1]) # binding labeled and unlabeled data together\n",
    "test.frame[,1] <- as.factor(test.frame$label) # converting labels of test data to a factor."
   ]
  },
  {
   "cell_type": "markdown",
   "metadata": {},
   "source": [
    "Below we build an autoencoder by providing 20 to 500 number of neurons in thehidden layer and providing both labeled and unlabeled data with the Tanh activation function. For each of these models, we calculate the reconstruction error which is the average distance between the input and output of the autoencoder. This is stored in a dataframe and then we produce a plot to see how the reconstruction error varies as the number of neurons in the hidden layer increases."
   ]
  },
  {
   "cell_type": "code",
   "execution_count": 31,
   "metadata": {},
   "outputs": [
    {
     "name": "stdout",
     "output_type": "stream",
     "text": [
      "  |======================================================================| 100%\n",
      "  |======================================================================| 100%\n",
      "  |======================================================================| 100%\n",
      "  |======================================================================| 100%\n",
      "  |======================================================================| 100%\n",
      "  |======================================================================| 100%\n",
      "  |======================================================================| 100%\n",
      "  |======================================================================| 100%\n",
      "  |======================================================================| 100%\n",
      "  |======================================================================| 100%\n",
      "  |======================================================================| 100%\n",
      "  |======================================================================| 100%\n",
      "  |======================================================================| 100%\n",
      "  |======================================================================| 100%\n",
      "  |======================================================================| 100%\n",
      "  |======================================================================| 100%\n",
      "  |======================================================================| 100%\n",
      "  |======================================================================| 100%\n",
      "  |======================================================================| 100%\n",
      "  |======================================================================| 100%\n",
      "  |======================================================================| 100%\n",
      "  |======================================================================| 100%\n",
      "  |======================================================================| 100%\n",
      "  |======================================================================| 100%\n",
      "  |======================================================================| 100%\n"
     ]
    }
   ],
   "source": [
    "i <- 1 # counter\n",
    "for (k in seq(20, 500, 20))\n",
    "    {\n",
    "            # build a neural network classifier based on the labeled training data\n",
    "            NN.model_encoder <- h2o.deeplearning(    \n",
    "            x = 2:ncol(train.frame), # select all pixels + extra features\n",
    "            training_frame = train.frame, # specify the frame (imported file)    \n",
    "            hidden = c(k), # number of layers and their units\n",
    "            epochs = 50, # maximum number of epoches  \n",
    "            activation = 'Tanh', # activation function\n",
    "            autoencoder = TRUE, # is it an autoencoder? Yes!\n",
    "            l2 = 0.1)\n",
    "            reconstruction_error <- mean(h2o.anomaly(NN.model_encoder, train.frame)) # reconstruction error which is the mean of distance between the input and output\n",
    "            reconstruction.train.error[i, 1] <- k # stores the number of neurons \n",
    "            reconstruction.train.error[i, 2] <- reconstruction_error # the reconstruction error for the corresponding error\n",
    "            i=i+1 # increment the counter\n",
    "    }"
   ]
  },
  {
   "cell_type": "code",
   "execution_count": 32,
   "metadata": {},
   "outputs": [],
   "source": [
    "reconstruction.train.error <- data.frame(reconstruction.train.error) # creates a dataframe to store the error for varying number of neurons"
   ]
  },
  {
   "cell_type": "markdown",
   "metadata": {},
   "source": [
    "Below we plot the reconstruction error v/s number of neurons used to build the autoencoder."
   ]
  },
  {
   "cell_type": "code",
   "execution_count": 33,
   "metadata": {},
   "outputs": [
    {
     "data": {
      "image/png": "[encoded data removed]",
      "text/plain": [
       "plot without title"
      ]
     },
     "metadata": {},
     "output_type": "display_data"
    }
   ],
   "source": [
    "ggplot(data=reconstruction.train.error,aes(x=X1,y=X2)) + \n",
    "    geom_line() + \n",
    "    labs(x=\"Number of Neurons\") + \n",
    "    labs(y=\"Reconstruction error\") + \n",
    "    labs(title = \"Reconstruction Error v/s Number of Neurons\")"
   ]
  },
  {
   "cell_type": "markdown",
   "metadata": {},
   "source": [
    "We now use the 3 layer neural network model provided in activity 5.2 with three layers and 100 neurons in the hidden layer with Tanh as the activation function. We then record the error rate in its prediction."
   ]
  },
  {
   "cell_type": "code",
   "execution_count": 26,
   "metadata": {},
   "outputs": [
    {
     "name": "stdout",
     "output_type": "stream",
     "text": [
      "  |======================================================================| 100%\n"
     ]
    }
   ],
   "source": [
    "NN.model <- h2o.deeplearning(    \n",
    "  x = 2:ncol(labeled.frame), # select all pixels + extra features\n",
    "  y = 1,\n",
    "  training_frame = labeled.frame, # specify the  only labeled data    \n",
    "  hidden = c(100), # number of layers and their units\n",
    "  epochs = 50, # maximum number of epoches  \n",
    "  activation = 'Tanh', # activation function\n",
    "  autoencoder = FALSE, # is it an autoencoder? No!\n",
    "  l2 = 0.1\n",
    ")\n",
    "\n"
   ]
  },
  {
   "cell_type": "code",
   "execution_count": 27,
   "metadata": {},
   "outputs": [
    {
     "name": "stdout",
     "output_type": "stream",
     "text": [
      "  |======================================================================| 100%\n"
     ]
    },
    {
     "data": {
      "text/html": [
       "0.739"
      ],
      "text/latex": [
       "0.739"
      ],
      "text/markdown": [
       "0.739"
      ],
      "text/plain": [
       "[1] 0.739"
      ]
     },
     "metadata": {},
     "output_type": "display_data"
    }
   ],
   "source": [
    "predicted_label <- h2o.predict(NN.model, test.frame)$predict\n",
    "error.rate(test.frame$label, predicted_label)"
   ]
  },
  {
   "cell_type": "markdown",
   "metadata": {},
   "source": [
    "Below we build an autoencoder with 20,40,60.....500 neurons in the hidden layers. We then use the extra features generated from the autoencoder to the training data and feed it to the neural network. This is followed by recording the error for different numbers of k."
   ]
  },
  {
   "cell_type": "code",
   "execution_count": 28,
   "metadata": {},
   "outputs": [
    {
     "name": "stdout",
     "output_type": "stream",
     "text": [
      "  |======================================================================| 100%\n",
      "  |======================================================================| 100%\n",
      "  |======================================================================| 100%\n",
      "  |======================================================================| 100%\n",
      "  |======================================================================| 100%\n",
      "  |======================================================================| 100%\n",
      "  |======================================================================| 100%\n",
      "  |======================================================================| 100%\n",
      "  |======================================================================| 100%\n",
      "  |======================================================================| 100%\n",
      "  |======================================================================| 100%\n",
      "  |======================================================================| 100%\n",
      "  |======================================================================| 100%\n",
      "  |======================================================================| 100%\n",
      "  |======================================================================| 100%\n",
      "  |======================================================================| 100%\n",
      "  |======================================================================| 100%\n",
      "  |======================================================================| 100%\n",
      "  |======================================================================| 100%\n",
      "  |======================================================================| 100%\n",
      "  |======================================================================| 100%\n",
      "  |======================================================================| 100%\n",
      "  |======================================================================| 100%\n",
      "  |======================================================================| 100%\n",
      "  |======================================================================| 100%\n",
      "  |======================================================================| 100%\n",
      "  |======================================================================| 100%\n",
      "  |======================================================================| 100%\n",
      "  |======================================================================| 100%\n",
      "  |======================================================================| 100%\n",
      "  |======================================================================| 100%\n",
      "  |======================================================================| 100%\n",
      "  |======================================================================| 100%\n",
      "  |======================================================================| 100%\n",
      "  |======================================================================| 100%\n",
      "  |======================================================================| 100%\n",
      "  |======================================================================| 100%\n",
      "  |======================================================================| 100%\n",
      "  |======================================================================| 100%\n",
      "  |======================================================================| 100%\n",
      "  |======================================================================| 100%\n",
      "  |======================================================================| 100%\n",
      "  |======================================================================| 100%\n",
      "  |======================================================================| 100%\n",
      "  |======================================================================| 100%\n",
      "  |======================================================================| 100%\n",
      "  |======================================================================| 100%\n",
      "  |======================================================================| 100%\n",
      "  |======================================================================| 100%\n",
      "  |======================================================================| 100%\n",
      "  |======================================================================| 100%\n",
      "  |======================================================================| 100%\n",
      "  |======================================================================| 100%\n",
      "  |======================================================================| 100%\n",
      "  |======================================================================| 100%\n",
      "  |======================================================================| 100%\n",
      "  |======================================================================| 100%\n",
      "  |======================================================================| 100%\n",
      "  |======================================================================| 100%\n",
      "  |======================================================================| 100%\n",
      "  |======================================================================| 100%\n",
      "  |======================================================================| 100%\n",
      "  |======================================================================| 100%\n",
      "  |======================================================================| 100%\n",
      "  |======================================================================| 100%\n",
      "  |======================================================================| 100%\n",
      "  |======================================================================| 100%\n",
      "  |======================================================================| 100%\n",
      "  |======================================================================| 100%\n",
      "  |======================================================================| 100%\n",
      "  |======================================================================| 100%\n",
      "  |======================================================================| 100%\n",
      "  |======================================================================| 100%\n",
      "  |======================================================================| 100%\n",
      "  |======================================================================| 100%\n",
      "  |======================================================================| 100%\n",
      "  |======================================================================| 100%\n",
      "  |======================================================================| 100%\n",
      "  |======================================================================| 100%\n",
      "  |======================================================================| 100%\n",
      "  |======================================================================| 100%\n",
      "  |======================================================================| 100%\n",
      "  |======================================================================| 100%\n",
      "  |======================================================================| 100%\n",
      "  |======================================================================| 100%\n",
      "  |======================================================================| 100%\n",
      "  |======================================================================| 100%\n",
      "  |======================================================================| 100%\n",
      "  |======================================================================| 100%\n",
      "  |======================================================================| 100%\n",
      "  |======================================================================| 100%\n",
      "  |======================================================================| 100%\n",
      "  |======================================================================| 100%\n",
      "  |======================================================================| 100%\n",
      "  |======================================================================| 100%\n",
      "  |======================================================================| 100%\n",
      "  |======================================================================| 100%\n",
      "  |======================================================================| 100%\n",
      "  |======================================================================| 100%\n",
      "  |======================================================================| 100%\n"
     ]
    }
   ],
   "source": [
    "# Create a matrix to store all the test errors\n",
    "classification.test.error <- matrix(NA, nrow=25, ncol=1)\n",
    "\n",
    "\n",
    "## loop over different k value of neurons and nuild autoencder and NN based on it\n",
    "for (k in seq(20, 500, 20)){\n",
    "        ## Autoencoder  \n",
    "        NN.model_encoder <- h2o.deeplearning(    \n",
    "        x = 2:ncol(train.frame), # select all pixels + extra features\n",
    "        training_frame = train.frame, # specify the frame (imported file)    \n",
    "        hidden = c(k), # number of layers and their units\n",
    "        epochs = 50, # maximum number of epoches  \n",
    "        activation = 'Tanh', # activation function \n",
    "        autoencoder = TRUE, # is it an autoencoder? Yes!\n",
    "        l2 = 0.1\n",
    ")\n",
    "  \n",
    "        #augmented dataframe with features of autoencoder and labelled data for NN\n",
    "        labeled.frame.ex <- h2o.cbind(labeled.frame,as.numeric(h2o.deepfeatures(NN.model_encoder,labeled.frame,layer=1)))  \n",
    "  \n",
    "        ## NN model for augmentaed labelled data set\n",
    "        NN.model_NN <- h2o.deeplearning(    \n",
    "            x = 2:ncol(labeled.frame.ex), # select all pixels + extra features\n",
    "            y = 1,\n",
    "            training_frame = labeled.frame.ex, # specify the frame (imported file)    \n",
    "            hidden = c(k), # number of layers and their units\n",
    "            epochs = 50, # maximum number of epoches  \n",
    "            activation = 'Tanh', # activation function \n",
    "            autoencoder = FALSE, # is it an autoencoder? No!\n",
    "            l2 = 0.1\n",
    "        )\n",
    "  \n",
    "        #make test data predictions and calculate errors\n",
    "        test.predict <- h2o.predict(NN.model_NN, test.frame)$predict\n",
    "        classification.test.error[k/20] <-error.rate(test.frame$label, test.predict)  \n",
    "}"
   ]
  },
  {
   "cell_type": "markdown",
   "metadata": {},
   "source": [
    "Below we create a dataframe to store the classification errors from the neural net for different number of features."
   ]
  },
  {
   "cell_type": "code",
   "execution_count": 29,
   "metadata": {},
   "outputs": [],
   "source": [
    "df <- data.frame('K'= seq(20,500,20),'ClassificationError'=classification.test.error)\n"
   ]
  },
  {
   "cell_type": "markdown",
   "metadata": {},
   "source": [
    "We now plot the classification error rate against number of features."
   ]
  },
  {
   "cell_type": "code",
   "execution_count": 30,
   "metadata": {},
   "outputs": [
    {
     "data": {
      "image/png": "[encoded data removed]",
      "text/plain": [
       "plot without title"
      ]
     },
     "metadata": {},
     "output_type": "display_data"
    }
   ],
   "source": [
    "ggplot(data = df,aes(x=df[,1],y=df[,2])) + \n",
    "geom_line(color = 'blue') + \n",
    "geom_point() +\n",
    "ggtitle('Classification Error vs Number of features') +\n",
    "ylab('Error Rate') + \n",
    "xlab('K')"
   ]
  },
  {
   "cell_type": "code",
   "execution_count": null,
   "metadata": {},
   "outputs": [],
   "source": []
  }
 ],
 "metadata": {
  "kernelspec": {
   "display_name": "R",
   "language": "R",
   "name": "ir"
  },
  "language_info": {
   "codemirror_mode": "r",
   "file_extension": ".r",
   "mimetype": "text/x-r-source",
   "name": "R",
   "pygments_lexer": "r",
   "version": "3.6.1"
  }
 },
 "nbformat": 4,
 "nbformat_minor": 2
}
