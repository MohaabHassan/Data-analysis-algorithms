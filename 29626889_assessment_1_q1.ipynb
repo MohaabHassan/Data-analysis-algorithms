{
 "cells": [
  {
   "cell_type": "markdown",
   "metadata": {},
   "source": [
    "# FIT5201 - Assignment 1\n",
    "\n",
    "## KNN regressor\n",
    "\n",
    "#### For the first question of the assignment, we are required to implement a KNN regressor function which takes the training data and their labels (continuous values), the test set, and the size of the neighborhood (K). It should return the regressed values for the test data points. Added on, we are required to plot training and testing errors versus 1/k, with which we need to devise which is the optimum value of k in terms of testing error.\n",
    "\n",
    "#### KNN is a non parametric method used for both classification and regression. For regression, the output is the property value for the object. This value is the average of the values of k nearest neighbors."
   ]
  },
  {
   "cell_type": "markdown",
   "metadata": {},
   "source": [
    "#### We first begin by loading the data "
   ]
  },
  {
   "cell_type": "code",
   "execution_count": 3,
   "metadata": {},
   "outputs": [
    {
     "name": "stderr",
     "output_type": "stream",
     "text": [
      "Warning message:\n",
      "\"package 'ggplot2' was built under R version 3.6.1\"Registered S3 method overwritten by 'rvest':\n",
      "  method            from\n",
      "  read_xml.response xml2\n",
      "-- Attaching packages --------------------------------------- tidyverse 1.2.1 --\n",
      "v tibble  2.1.1     v purrr   0.3.2\n",
      "v tidyr   0.8.3     v dplyr   0.8.3\n",
      "v readr   1.3.1     v stringr 1.4.0\n",
      "v tibble  2.1.1     v forcats 0.4.0\n",
      "Warning message:\n",
      "\"package 'dplyr' was built under R version 3.6.1\"-- Conflicts ------------------------------------------ tidyverse_conflicts() --\n",
      "x dplyr::filter() masks stats::filter()\n",
      "x dplyr::lag()    masks stats::lag()\n",
      "Warning message:\n",
      "\"package 'reshape2' was built under R version 3.6.1\"\n",
      "Attaching package: 'reshape2'\n",
      "\n",
      "The following object is masked from 'package:tidyr':\n",
      "\n",
      "    smiths\n",
      "\n"
     ]
    }
   ],
   "source": [
    "library(ggplot2)\n",
    "library(tidyverse)\n",
    "library(reshape2)"
   ]
  },
  {
   "cell_type": "markdown",
   "metadata": {},
   "source": [
    "#### We separate the data into training data/labels and testing data/labels."
   ]
  },
  {
   "cell_type": "code",
   "execution_count": 13,
   "metadata": {},
   "outputs": [],
   "source": [
    "data <- read.csv('Task1A_train.csv')\n",
    "data_test <- read.csv('Task1A_test.csv')\n",
    "training_data <- data['x1']\n",
    "training_label <- data['y']\n",
    "test_data <- data_test['x1']\n",
    "test_label <- data_test['y']"
   ]
  },
  {
   "cell_type": "markdown",
   "metadata": {},
   "source": [
    "The following function implements the KNN function. We pass training data, training labels, test data, the number of neighbors(k) and the distance method(Euclidean for our scenario). The function does the following steps,\n",
    "- Calculates distance between samples\n",
    "- For each test sample, get the average of the test labels of 'k' nearest neighbors of the test data point.\n",
    "- Return the test label"
   ]
  },
  {
   "cell_type": "code",
   "execution_count": 17,
   "metadata": {},
   "outputs": [],
   "source": [
    "# KNN function (distance should be one of euclidean, maximum, manhattan, canberra, binary or minkowski)\n",
    "knn <- function(train.data, train.label, test.data, K=3, distance = 'euclidean'){\n",
    "  ## count number of train samples\n",
    "  train.len <- nrow(train.data)\n",
    "  \n",
    "  ## count number of test samples\n",
    "  test.len <- nrow(test.data)\n",
    "  \n",
    "  ## calculate distances between samples\n",
    "  dist <- as.matrix(dist(rbind(test.data, train.data), method= distance))[1:test.len, (test.len+1):(test.len+train.len)]\n",
    "  \n",
    "  ## for each test sample...\n",
    "  test.label<- c()\n",
    "  for (i in 1:test.len){\n",
    "    ### ...find its K nearest neighbours from training sampels...\n",
    "    nn <- as.data.frame(sort(dist[i,], index.return = TRUE))[1:K,2]\n",
    "    \n",
    "    ###... and calculate the predicted labels according to the majority vote\n",
    "    test.label[i]<- (mean(train.label[nn,1]))\n",
    "  }\n",
    "  \n",
    "  ## return the class labels as output\n",
    "  return (test.label)\n",
    "}\n"
   ]
  },
  {
   "cell_type": "markdown",
   "metadata": {},
   "source": [
    "The below codes stores a dataframe for training and testing error of KNN regressor for different values of k. We use RMSE for calculating these errors by using the below formula,\n",
    "                            $$RMSE=\\sqrt{\\frac{\\sum_{i=1}^N (Predicted-  Actual)^2}{N}}$$\n"
   ]
  },
  {
   "cell_type": "code",
   "execution_count": 28,
   "metadata": {},
   "outputs": [],
   "source": [
    "miss <- data.frame('K'=1:20, 'train'=rep(0,20), 'test'=rep(0,20))\n",
    "for (k in 1:20){\n",
    "    miss[k,'train'] <- sqrt(sum((training_label - knn(training_data, training_label, training_data, K=k))**2)/nrow(training_data))\n",
    "    miss[k,'test'] <-  sqrt(sum((test_label - knn(training_data, training_label, test_data, K=k))**2)/nrow(test_data))\n",
    "}"
   ]
  },
  {
   "cell_type": "markdown",
   "metadata": {},
   "source": [
    "Below, we code a plot for training v/v test error for different values of k."
   ]
  },
  {
   "cell_type": "code",
   "execution_count": 29,
   "metadata": {},
   "outputs": [
    {
     "data": {
      "image/png": "[encoded data removed]",
      "text/plain": [
       "plot without title"
      ]
     },
     "metadata": {},
     "output_type": "display_data"
    }
   ],
   "source": [
    "# plot misclassification percentage for train and test data sets\n",
    "miss.m <- melt(miss, id='K') # reshape for visualization\n",
    "names(miss.m) <- c('K', 'type', 'RMSE')\n",
    "ggplot(data=miss.m, aes(x=1/K, y=RMSE, color=type)) + geom_line() +\n",
    "       scale_color_discrete(guide = guide_legend(title = NULL)) + theme_minimal() +\n",
    "       ggtitle(\"RMSE\")"
   ]
  },
  {
   "cell_type": "markdown",
   "metadata": {},
   "source": [
    "We can interpret the following things from the above plot,\n",
    "- When k=1, the bias becomes 0, but when we introduce a new data point to the model, it has higher chance to have an error due to high variance due to a non smooth decision surface. Thus, we get a very low training error and a high test error as the model completely overfits on the training data. This is a case of overfitting the model.\n",
    "- As k increases we increase the bias of the model and decrease the variance, which smooths the decision surface of our model to a certain threshold. After which we increase our k, the decision becomes very smooth and every prediction from the regressor will have a single value which leads to model underfitting.\n",
    "- The optimal value of K is somewhere around 8-10, as we can see from the plot, it's where the training and testing errors converges to a minimum. This region has the perfect trade off with the bias and variance of the model."
   ]
  }
 ],
 "metadata": {
  "kernelspec": {
   "display_name": "R",
   "language": "R",
   "name": "ir"
  },
  "language_info": {
   "codemirror_mode": "r",
   "file_extension": ".r",
   "mimetype": "text/x-r-source",
   "name": "R",
   "pygments_lexer": "r",
   "version": "3.6.0"
  }
 },
 "nbformat": 4,
 "nbformat_minor": 2
}
